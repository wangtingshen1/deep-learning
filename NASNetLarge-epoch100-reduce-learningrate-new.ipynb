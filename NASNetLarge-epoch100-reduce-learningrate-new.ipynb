{
 "cells": [
  {
   "cell_type": "code",
   "execution_count": 1,
   "metadata": {},
   "outputs": [
    {
     "name": "stderr",
     "output_type": "stream",
     "text": [
      "Using TensorFlow backend.\n"
     ]
    }
   ],
   "source": [
    "import os,shutil\n",
    "\n",
    "\"\"\"GPU设置为按需增长\"\"\"\n",
    "import tensorflow as tf\n",
    "import keras.backend.tensorflow_backend as KTF\n",
    "# 指定第一块GPU可用\n",
    "os.environ[\"CUDA_VISIBLE_DEVICES\"] = \"1\"\n",
    "config = tf.ConfigProto()\n",
    "config.gpu_options.allow_growth=True   #不全部占满显存, 按需分配\n",
    "# config.gpu_options.per_process_gpu_memory_fraction = 0.3\n",
    "sess = tf.Session(config=config)\n",
    "KTF.set_session(sess)\n",
    "\n",
    "original_dataset_dir_female = '/home/wangtingshen/tingshen-code/female/'\n",
    "original_dataset_dir_male = '/home/wangtingshen/tingshen-code/male/'"
   ]
  },
  {
   "cell_type": "code",
   "execution_count": 2,
   "metadata": {},
   "outputs": [
    {
     "name": "stdout",
     "output_type": "stream",
     "text": [
      "total training female images: 70000\n",
      "total training male images: 70000\n",
      "total validation female images: 5000\n",
      "total validation male images: 5000\n",
      "total test female images: 5000\n",
      "total test male images: 5000\n"
     ]
    }
   ],
   "source": [
    "#保存较小的数据集\n",
    "base_dir = '/home/wangtingshen/tingshen-code/real-dataset'\n",
    "\n",
    "#拼接子路径，划分训练、验证、测试集\n",
    "train_dir = os.path.join(base_dir,'train')\n",
    "validation_dir = os.path.join(base_dir,'validation')\n",
    "test_dir = os.path.join(base_dir,'test')\n",
    "\n",
    "#训练女性图像目录\n",
    "train_female_dir = os.path.join(train_dir,'female')\n",
    "#训练男性图像目录\n",
    "train_male_dir = os.path.join(train_dir,'male')\n",
    "#验证女性图像目录\n",
    "validation_female_dir = os.path.join(validation_dir,'female')\n",
    "#验证男性图像目录\n",
    "validation_male_dir = os.path.join(validation_dir,'male')\n",
    "#测试女性图像目录\n",
    "test_female_dir = os.path.join(test_dir,'female')\n",
    "#测试男性图像目录\n",
    "test_male_dir = os.path.join(test_dir,'male')\n",
    "\n",
    "print('total training female images:',len(os.listdir(train_female_dir)))\n",
    "print('total training male images:',len(os.listdir(train_male_dir)))\n",
    "print('total validation female images:',len(os.listdir(validation_female_dir)))\n",
    "print('total validation male images:',len(os.listdir(validation_male_dir)))\n",
    "print('total test female images:',len(os.listdir(test_female_dir)))\n",
    "print('total test male images:',len(os.listdir(test_male_dir)))"
   ]
  },
  {
   "cell_type": "code",
   "execution_count": 3,
   "metadata": {},
   "outputs": [],
   "source": [
    "from keras import models\n",
    "from keras import layers"
   ]
  },
  {
   "cell_type": "code",
   "execution_count": 4,
   "metadata": {},
   "outputs": [
    {
     "name": "stdout",
     "output_type": "stream",
     "text": [
      "Found 140000 images belonging to 2 classes.\n",
      "Found 10000 images belonging to 2 classes.\n"
     ]
    }
   ],
   "source": [
    "from keras.preprocessing.image import ImageDataGenerator\n",
    "\n",
    "train_datagen = ImageDataGenerator(rescale=1./255)\n",
    "test_datagen = ImageDataGenerator(rescale=1./255)\n",
    "\n",
    "#默认打乱数据\n",
    "train_generator = train_datagen.flow_from_directory(\n",
    "        train_dir,\n",
    "        target_size=(224,224),\n",
    "        batch_size=20,\n",
    "        class_mode='binary')\n",
    "\n",
    "validation_generator = test_datagen.flow_from_directory(\n",
    "        validation_dir,\n",
    "        target_size=(224,224),\n",
    "        batch_size=10,\n",
    "        class_mode='binary')"
   ]
  },
  {
   "cell_type": "code",
   "execution_count": 5,
   "metadata": {},
   "outputs": [
    {
     "name": "stdout",
     "output_type": "stream",
     "text": [
      "data batch shape: (20, 224, 224, 3)\n",
      "labels batch shape: (20,)\n"
     ]
    }
   ],
   "source": [
    "for data_batch, labels_batch in train_generator:\n",
    "    print('data batch shape:', data_batch.shape)\n",
    "    print('labels batch shape:', labels_batch.shape)\n",
    "    break"
   ]
  },
  {
   "cell_type": "code",
   "execution_count": 6,
   "metadata": {},
   "outputs": [
    {
     "name": "stdout",
     "output_type": "stream",
     "text": [
      "WARNING:tensorflow:From /usr/local/lib/python3.5/dist-packages/keras/backend/tensorflow_backend.py:4070: The name tf.nn.max_pool is deprecated. Please use tf.nn.max_pool2d instead.\n",
      "\n",
      "WARNING:tensorflow:From /usr/local/lib/python3.5/dist-packages/keras/backend/tensorflow_backend.py:4074: The name tf.nn.avg_pool is deprecated. Please use tf.nn.avg_pool2d instead.\n",
      "\n"
     ]
    }
   ],
   "source": [
    "import keras\n",
    "from keras.applications.nasnet import NASNetLarge\n",
    "from keras.models import Sequential\n",
    "from keras.layers import Dense,Activation,Dropout,Flatten\n",
    "from keras.layers import Conv2D,MaxPool2D\n",
    "from keras.utils import plot_model\n",
    "\n",
    "# 定义输入\n",
    "input_shape = (224,224,3) # RGB影像224x224（height,width,channel)\n",
    "#引用模型\n",
    "conv_base = NASNetLarge(weights=None, include_top=False, pooling='avg',input_shape=input_shape)\n",
    "#conv_base.summary()"
   ]
  },
  {
   "cell_type": "code",
   "execution_count": 7,
   "metadata": {},
   "outputs": [
    {
     "name": "stdout",
     "output_type": "stream",
     "text": [
      "Model: \"sequential_1\"\n",
      "_________________________________________________________________\n",
      "Layer (type)                 Output Shape              Param #   \n",
      "=================================================================\n",
      "NASNet (Model)               (None, 4032)              84916818  \n",
      "_________________________________________________________________\n",
      "predictions (Dense)          (None, 1)                 4033      \n",
      "=================================================================\n",
      "Total params: 84,920,851\n",
      "Trainable params: 84,724,183\n",
      "Non-trainable params: 196,668\n",
      "_________________________________________________________________\n"
     ]
    }
   ],
   "source": [
    "#定义模型\n",
    "model = models.Sequential()\n",
    "# 前馈全连接区块\n",
    "model.add(conv_base)\n",
    "model.add(Dense(1,activation='sigmoid',name='predictions'))\n",
    "model.summary()"
   ]
  },
  {
   "cell_type": "code",
   "execution_count": 8,
   "metadata": {},
   "outputs": [
    {
     "name": "stdout",
     "output_type": "stream",
     "text": [
      "WARNING:tensorflow:From /usr/local/lib/python3.5/dist-packages/tensorflow/python/ops/nn_impl.py:180: add_dispatch_support.<locals>.wrapper (from tensorflow.python.ops.array_ops) is deprecated and will be removed in a future version.\n",
      "Instructions for updating:\n",
      "Use tf.where in 2.0, which has the same broadcast rule as np.where\n"
     ]
    }
   ],
   "source": [
    "from keras import optimizers\n",
    "from keras.callbacks import LearningRateScheduler\n",
    "import math\n",
    "\n",
    "def step_decay(epoch):\n",
    "    initial_lr = 1e-4\n",
    "    drop = 0.1\n",
    "    epochs_drop = 15.0\n",
    "    lrate = initial_lr*math.pow(drop,math.floor((1+epoch)/epochs_drop))\n",
    "    return lrate\n",
    "\n",
    "learning_rate = LearningRateScheduler(step_decay)\n",
    "model.compile(loss='binary_crossentropy', optimizer=optimizers.RMSprop(lr=1e-4), metrics=['acc'])"
   ]
  },
  {
   "cell_type": "code",
   "execution_count": 9,
   "metadata": {},
   "outputs": [
    {
     "name": "stdout",
     "output_type": "stream",
     "text": [
      "WARNING:tensorflow:From /usr/local/lib/python3.5/dist-packages/keras/backend/tensorflow_backend.py:422: The name tf.global_variables is deprecated. Please use tf.compat.v1.global_variables instead.\n",
      "\n",
      "Epoch 1/100\n",
      "3500/3500 [==============================] - 2102s 601ms/step - loss: 0.2198 - acc: 0.9109 - val_loss: 6.5556 - val_acc: 0.5019\n",
      "Epoch 2/100\n",
      "3500/3500 [==============================] - 2012s 575ms/step - loss: 0.1048 - acc: 0.9601 - val_loss: 0.8723 - val_acc: 0.5029\n",
      "Epoch 3/100\n",
      "3500/3500 [==============================] - 1986s 568ms/step - loss: 0.0793 - acc: 0.9714 - val_loss: 0.8278 - val_acc: 0.5008\n",
      "Epoch 4/100\n",
      "3500/3500 [==============================] - 1985s 567ms/step - loss: 0.0762 - acc: 0.9720 - val_loss: 0.6819 - val_acc: 0.7668\n",
      "Epoch 5/100\n",
      "3500/3500 [==============================] - 1986s 567ms/step - loss: 0.0587 - acc: 0.9796 - val_loss: 1.5096e-06 - val_acc: 0.9436\n",
      "Epoch 6/100\n",
      "3500/3500 [==============================] - 1985s 567ms/step - loss: 0.0586 - acc: 0.9792 - val_loss: 2.5917e-15 - val_acc: 0.9502\n",
      "Epoch 7/100\n",
      "3500/3500 [==============================] - 1985s 567ms/step - loss: 0.0433 - acc: 0.9851 - val_loss: 4.1083e-21 - val_acc: 0.9593\n",
      "Epoch 8/100\n",
      "3500/3500 [==============================] - 1985s 567ms/step - loss: 0.0471 - acc: 0.9844 - val_loss: 6.7660 - val_acc: 0.9040\n",
      "Epoch 9/100\n",
      "3500/3500 [==============================] - 1986s 567ms/step - loss: 0.0336 - acc: 0.9886 - val_loss: 28.3242 - val_acc: 0.5000\n",
      "Epoch 10/100\n",
      "3500/3500 [==============================] - 1985s 567ms/step - loss: 0.0367 - acc: 0.9878 - val_loss: 1.6919e-13 - val_acc: 0.9737\n",
      "Epoch 11/100\n",
      "3500/3500 [==============================] - 1985s 567ms/step - loss: 0.0264 - acc: 0.9914 - val_loss: 1.9699e-06 - val_acc: 0.9712\n",
      "Epoch 12/100\n",
      "3500/3500 [==============================] - 1984s 567ms/step - loss: 0.0291 - acc: 0.9910 - val_loss: 2.8207 - val_acc: 0.9546\n",
      "Epoch 13/100\n",
      "3500/3500 [==============================] - 1985s 567ms/step - loss: 0.0196 - acc: 0.9939 - val_loss: 4.7664e-11 - val_acc: 0.9746\n",
      "Epoch 14/100\n",
      "3500/3500 [==============================] - 1986s 567ms/step - loss: 0.0225 - acc: 0.9931 - val_loss: 1.5621 - val_acc: 0.9696\n",
      "Epoch 15/100\n",
      "3500/3500 [==============================] - 1985s 567ms/step - loss: 0.0079 - acc: 0.9979 - val_loss: 1.2020e-07 - val_acc: 0.9778\n",
      "Epoch 16/100\n",
      "3500/3500 [==============================] - 1986s 568ms/step - loss: 0.0061 - acc: 0.9984 - val_loss: 9.7524e-05 - val_acc: 0.9780\n",
      "Epoch 17/100\n",
      "3500/3500 [==============================] - 1987s 568ms/step - loss: 0.0022 - acc: 0.9997 - val_loss: 1.2337e-07 - val_acc: 0.9781\n",
      "Epoch 18/100\n",
      "3500/3500 [==============================] - 1988s 568ms/step - loss: 0.0036 - acc: 0.9994 - val_loss: 6.6707e-05 - val_acc: 0.9784\n",
      "Epoch 19/100\n",
      "3500/3500 [==============================] - 1987s 568ms/step - loss: 0.0018 - acc: 0.9997 - val_loss: 1.5295 - val_acc: 0.9782\n",
      "Epoch 20/100\n",
      "3500/3500 [==============================] - 1988s 568ms/step - loss: 0.0014 - acc: 0.9997 - val_loss: 1.5680e-07 - val_acc: 0.9787\n",
      "Epoch 21/100\n",
      "3500/3500 [==============================] - 1988s 568ms/step - loss: 9.0029e-04 - acc: 0.9999 - val_loss: 4.2715e-05 - val_acc: 0.9784\n",
      "Epoch 22/100\n",
      "3500/3500 [==============================] - 1987s 568ms/step - loss: 0.0013 - acc: 0.9998 - val_loss: 2.0835 - val_acc: 0.9784\n",
      "Epoch 23/100\n",
      "3500/3500 [==============================] - 1988s 568ms/step - loss: 6.7697e-04 - acc: 0.9999 - val_loss: 1.4925e-08 - val_acc: 0.9789\n",
      "Epoch 24/100\n",
      "3500/3500 [==============================] - 1987s 568ms/step - loss: 0.0010 - acc: 0.9999 - val_loss: 1.7538 - val_acc: 0.9785\n",
      "Epoch 25/100\n",
      "3500/3500 [==============================] - 1989s 568ms/step - loss: 3.6747e-04 - acc: 0.9999 - val_loss: 1.9574e-08 - val_acc: 0.9782\n",
      "Epoch 26/100\n",
      "3500/3500 [==============================] - 1989s 568ms/step - loss: 0.0010 - acc: 0.9998 - val_loss: 1.6824e-08 - val_acc: 0.9782\n",
      "Epoch 27/100\n",
      "3500/3500 [==============================] - 1990s 569ms/step - loss: 3.3365e-04 - acc: 0.9999 - val_loss: 4.1939e-09 - val_acc: 0.9781\n",
      "Epoch 28/100\n",
      "3500/3500 [==============================] - 1991s 569ms/step - loss: 7.9412e-04 - acc: 0.9999 - val_loss: 1.3696 - val_acc: 0.9785\n",
      "Epoch 29/100\n",
      "3500/3500 [==============================] - 1996s 570ms/step - loss: 5.4990e-04 - acc: 0.9999 - val_loss: 1.5589e-08 - val_acc: 0.9787\n",
      "Epoch 30/100\n",
      "3500/3500 [==============================] - 1998s 571ms/step - loss: 5.0690e-04 - acc: 0.9999 - val_loss: 4.2154e-07 - val_acc: 0.9783\n",
      "Epoch 31/100\n",
      "3500/3500 [==============================] - 1997s 570ms/step - loss: 3.7284e-04 - acc: 0.9999 - val_loss: 2.2630e-09 - val_acc: 0.9782\n",
      "Epoch 32/100\n",
      "3500/3500 [==============================] - 1994s 570ms/step - loss: 3.3517e-04 - acc: 1.0000 - val_loss: 2.4213e-09 - val_acc: 0.9786\n",
      "Epoch 33/100\n",
      "3500/3500 [==============================] - 1996s 570ms/step - loss: 3.3051e-04 - acc: 1.0000 - val_loss: 5.8779e-09 - val_acc: 0.9783\n",
      "Epoch 34/100\n",
      "3500/3500 [==============================] - 2000s 571ms/step - loss: 3.8035e-04 - acc: 0.9999 - val_loss: 1.7946 - val_acc: 0.9783\n",
      "Epoch 35/100\n",
      "3500/3500 [==============================] - 1999s 571ms/step - loss: 2.0115e-04 - acc: 1.0000 - val_loss: 2.6069e-09 - val_acc: 0.9785\n",
      "Epoch 36/100\n",
      "3500/3500 [==============================] - 1999s 571ms/step - loss: 4.1584e-04 - acc: 0.9999 - val_loss: 1.8360e-08 - val_acc: 0.9784\n",
      "Epoch 37/100\n",
      "3500/3500 [==============================] - 1999s 571ms/step - loss: 3.5855e-04 - acc: 0.9999 - val_loss: 1.9029 - val_acc: 0.9783\n",
      "Epoch 38/100\n",
      "3500/3500 [==============================] - 2000s 571ms/step - loss: 1.7174e-04 - acc: 1.0000 - val_loss: 1.1932e-08 - val_acc: 0.9787\n",
      "Epoch 39/100\n",
      "3500/3500 [==============================] - 2001s 572ms/step - loss: 2.7524e-04 - acc: 0.9999 - val_loss: 2.8584e-09 - val_acc: 0.9785\n",
      "Epoch 40/100\n",
      "3500/3500 [==============================] - 2000s 571ms/step - loss: 1.6786e-04 - acc: 1.0000 - val_loss: 1.7308e-06 - val_acc: 0.9783\n",
      "Epoch 41/100\n",
      "3500/3500 [==============================] - 2001s 572ms/step - loss: 1.4680e-04 - acc: 1.0000 - val_loss: 1.0994e-07 - val_acc: 0.9783\n",
      "Epoch 42/100\n",
      "3500/3500 [==============================] - 2001s 572ms/step - loss: 2.9318e-04 - acc: 1.0000 - val_loss: 1.0496e-08 - val_acc: 0.9785\n",
      "Epoch 43/100\n",
      "3500/3500 [==============================] - 2000s 572ms/step - loss: 1.1478e-04 - acc: 1.0000 - val_loss: 8.6590e-09 - val_acc: 0.9783\n",
      "Epoch 44/100\n",
      "3500/3500 [==============================] - 2001s 572ms/step - loss: 3.4655e-04 - acc: 1.0000 - val_loss: 1.4880e-08 - val_acc: 0.9785\n",
      "Epoch 45/100\n",
      "3500/3500 [==============================] - 2000s 572ms/step - loss: 1.2369e-04 - acc: 1.0000 - val_loss: 1.6383 - val_acc: 0.9785\n",
      "Epoch 46/100\n",
      "3500/3500 [==============================] - 2000s 571ms/step - loss: 2.0716e-04 - acc: 1.0000 - val_loss: 1.5556e-09 - val_acc: 0.9785\n",
      "Epoch 47/100\n",
      "3500/3500 [==============================] - 2001s 572ms/step - loss: 2.0944e-05 - acc: 1.0000 - val_loss: 5.2514e-04 - val_acc: 0.9785\n",
      "Epoch 48/100\n",
      "3500/3500 [==============================] - 2000s 572ms/step - loss: 4.3944e-04 - acc: 0.9999 - val_loss: 0.0424 - val_acc: 0.9785\n",
      "Epoch 49/100\n",
      "3500/3500 [==============================] - 2001s 572ms/step - loss: 2.1338e-04 - acc: 1.0000 - val_loss: 2.4026 - val_acc: 0.9785\n",
      "Epoch 50/100\n",
      "3500/3500 [==============================] - 2001s 572ms/step - loss: 4.4900e-04 - acc: 0.9999 - val_loss: 3.9605e-09 - val_acc: 0.9787\n",
      "Epoch 51/100\n",
      "3500/3500 [==============================] - 2001s 572ms/step - loss: 1.5086e-04 - acc: 1.0000 - val_loss: 1.8386e-09 - val_acc: 0.9787\n",
      "Epoch 52/100\n",
      "3500/3500 [==============================] - 2001s 572ms/step - loss: 2.4484e-04 - acc: 1.0000 - val_loss: 7.6279e-09 - val_acc: 0.9787\n",
      "Epoch 53/100\n",
      "3500/3500 [==============================] - 2000s 571ms/step - loss: 3.7856e-04 - acc: 0.9999 - val_loss: 1.2230e-09 - val_acc: 0.9786\n",
      "Epoch 54/100\n",
      "3500/3500 [==============================] - 2001s 572ms/step - loss: 5.6794e-04 - acc: 0.9999 - val_loss: 1.4353 - val_acc: 0.9786\n",
      "Epoch 55/100\n",
      "3500/3500 [==============================] - 2000s 571ms/step - loss: 3.0601e-07 - acc: 1.0000 - val_loss: 4.8103e-05 - val_acc: 0.9785\n"
     ]
    },
    {
     "name": "stdout",
     "output_type": "stream",
     "text": [
      "Epoch 56/100\n",
      "3500/3500 [==============================] - 1999s 571ms/step - loss: 3.1499e-04 - acc: 1.0000 - val_loss: 3.4474 - val_acc: 0.9784\n",
      "Epoch 57/100\n",
      "3500/3500 [==============================] - 1999s 571ms/step - loss: 1.3230e-04 - acc: 1.0000 - val_loss: 3.9701e-09 - val_acc: 0.9784\n",
      "Epoch 58/100\n",
      "3500/3500 [==============================] - 1999s 571ms/step - loss: 3.4925e-04 - acc: 0.9999 - val_loss: 4.1438e-09 - val_acc: 0.9784\n",
      "Epoch 59/100\n",
      "3500/3500 [==============================] - 2000s 571ms/step - loss: 9.7845e-05 - acc: 1.0000 - val_loss: 4.0966e-09 - val_acc: 0.9784\n",
      "Epoch 60/100\n",
      "3500/3500 [==============================] - 2000s 571ms/step - loss: 3.3796e-04 - acc: 1.0000 - val_loss: 9.4790e-08 - val_acc: 0.9784\n",
      "Epoch 61/100\n",
      "3500/3500 [==============================] - 1999s 571ms/step - loss: 4.6143e-04 - acc: 0.9999 - val_loss: 4.5965e-08 - val_acc: 0.9784\n",
      "Epoch 62/100\n",
      "3500/3500 [==============================] - 2000s 571ms/step - loss: 1.5383e-04 - acc: 1.0000 - val_loss: 6.0438e-10 - val_acc: 0.9784\n",
      "Epoch 63/100\n",
      "3500/3500 [==============================] - 2000s 572ms/step - loss: 3.6832e-04 - acc: 1.0000 - val_loss: 6.1085e-10 - val_acc: 0.9784\n",
      "Epoch 64/100\n",
      "3500/3500 [==============================] - 2000s 571ms/step - loss: 5.3952e-05 - acc: 1.0000 - val_loss: 3.3957 - val_acc: 0.9784\n",
      "Epoch 65/100\n",
      "3500/3500 [==============================] - 1999s 571ms/step - loss: 2.3104e-04 - acc: 1.0000 - val_loss: 2.2691 - val_acc: 0.9784\n",
      "Epoch 66/100\n",
      "3500/3500 [==============================] - 1999s 571ms/step - loss: 5.0164e-05 - acc: 1.0000 - val_loss: 2.0077 - val_acc: 0.9784\n",
      "Epoch 67/100\n",
      "3500/3500 [==============================] - 1998s 571ms/step - loss: 3.5857e-06 - acc: 1.0000 - val_loss: 3.0362e-05 - val_acc: 0.9785\n",
      "Epoch 68/100\n",
      "3500/3500 [==============================] - 1999s 571ms/step - loss: 3.3511e-04 - acc: 0.9999 - val_loss: 2.4666e-09 - val_acc: 0.9784\n",
      "Epoch 69/100\n",
      "3500/3500 [==============================] - 1999s 571ms/step - loss: 4.3400e-04 - acc: 0.9999 - val_loss: 1.0623e-09 - val_acc: 0.9784\n",
      "Epoch 70/100\n",
      "3500/3500 [==============================] - 1994s 570ms/step - loss: 3.1631e-04 - acc: 0.9999 - val_loss: 2.1115 - val_acc: 0.9784\n",
      "Epoch 71/100\n",
      "3500/3500 [==============================] - 1993s 569ms/step - loss: 6.5771e-05 - acc: 0.9999 - val_loss: 7.4054e-09 - val_acc: 0.9784\n",
      "Epoch 72/100\n",
      "3500/3500 [==============================] - 1990s 569ms/step - loss: 2.6413e-04 - acc: 1.0000 - val_loss: 1.2380e-09 - val_acc: 0.9784\n",
      "Epoch 73/100\n",
      "3500/3500 [==============================] - 1991s 569ms/step - loss: 2.0408e-04 - acc: 1.0000 - val_loss: 2.6044e-09 - val_acc: 0.9784\n",
      "Epoch 74/100\n",
      "3500/3500 [==============================] - 1991s 569ms/step - loss: 1.9687e-04 - acc: 0.9999 - val_loss: 2.2616e-08 - val_acc: 0.9785\n",
      "Epoch 75/100\n",
      "3500/3500 [==============================] - 1991s 569ms/step - loss: 1.7792e-04 - acc: 1.0000 - val_loss: 2.2719 - val_acc: 0.9785\n",
      "Epoch 76/100\n",
      "3500/3500 [==============================] - 1992s 569ms/step - loss: 2.2764e-04 - acc: 1.0000 - val_loss: 2.7664e-08 - val_acc: 0.9784\n",
      "Epoch 77/100\n",
      "3500/3500 [==============================] - 1993s 569ms/step - loss: 2.9815e-04 - acc: 0.9999 - val_loss: 2.0095e-09 - val_acc: 0.9784\n",
      "Epoch 78/100\n",
      "3500/3500 [==============================] - 1994s 570ms/step - loss: 9.8683e-06 - acc: 1.0000 - val_loss: 2.0739e-09 - val_acc: 0.9784\n",
      "Epoch 79/100\n",
      "3500/3500 [==============================] - 1997s 570ms/step - loss: 2.6590e-04 - acc: 1.0000 - val_loss: 6.6494e-09 - val_acc: 0.9785\n",
      "Epoch 80/100\n",
      "3500/3500 [==============================] - 1995s 570ms/step - loss: 5.4667e-05 - acc: 1.0000 - val_loss: 1.4374e-09 - val_acc: 0.9784\n",
      "Epoch 81/100\n",
      "3500/3500 [==============================] - 1995s 570ms/step - loss: 4.5472e-04 - acc: 0.9999 - val_loss: 0.0022 - val_acc: 0.9784\n",
      "Epoch 82/100\n",
      "3500/3500 [==============================] - 1987s 568ms/step - loss: 9.1597e-05 - acc: 1.0000 - val_loss: 7.5157e-10 - val_acc: 0.9784\n",
      "Epoch 83/100\n",
      "3500/3500 [==============================] - 1988s 568ms/step - loss: 2.2353e-04 - acc: 0.9999 - val_loss: 3.6619e-09 - val_acc: 0.9784\n",
      "Epoch 84/100\n",
      "3500/3500 [==============================] - 1988s 568ms/step - loss: 2.2563e-04 - acc: 1.0000 - val_loss: 1.6446e-08 - val_acc: 0.9784\n",
      "Epoch 85/100\n",
      "3500/3500 [==============================] - 1988s 568ms/step - loss: 1.1173e-05 - acc: 1.0000 - val_loss: 2.2394 - val_acc: 0.9784\n",
      "Epoch 86/100\n",
      "3500/3500 [==============================] - 1989s 568ms/step - loss: 6.1489e-04 - acc: 0.9999 - val_loss: 3.8735e-09 - val_acc: 0.9784\n",
      "Epoch 87/100\n",
      "3500/3500 [==============================] - 1987s 568ms/step - loss: 3.4768e-04 - acc: 0.9999 - val_loss: 9.6034e-10 - val_acc: 0.9784\n",
      "Epoch 88/100\n",
      "3500/3500 [==============================] - 1988s 568ms/step - loss: 1.1797e-05 - acc: 1.0000 - val_loss: 0.5665 - val_acc: 0.9784\n",
      "Epoch 89/100\n",
      "3500/3500 [==============================] - 1990s 569ms/step - loss: 3.0056e-04 - acc: 1.0000 - val_loss: 1.6189e-09 - val_acc: 0.9784\n",
      "Epoch 90/100\n",
      "3500/3500 [==============================] - 1990s 568ms/step - loss: 4.4204e-04 - acc: 0.9999 - val_loss: 2.5281e-10 - val_acc: 0.9784\n",
      "Epoch 91/100\n",
      "3500/3500 [==============================] - 1990s 569ms/step - loss: 4.5802e-04 - acc: 0.9999 - val_loss: 1.6305 - val_acc: 0.9784\n",
      "Epoch 92/100\n",
      "3500/3500 [==============================] - 1991s 569ms/step - loss: 1.9017e-04 - acc: 0.9999 - val_loss: 8.5870e-05 - val_acc: 0.9784\n",
      "Epoch 93/100\n",
      "3500/3500 [==============================] - 1990s 569ms/step - loss: 1.4581e-04 - acc: 1.0000 - val_loss: 2.7405e-09 - val_acc: 0.9784\n",
      "Epoch 94/100\n",
      "3500/3500 [==============================] - 1990s 569ms/step - loss: 2.5288e-04 - acc: 1.0000 - val_loss: 1.4217 - val_acc: 0.9784\n",
      "Epoch 95/100\n",
      "3500/3500 [==============================] - 1991s 569ms/step - loss: 2.4872e-04 - acc: 1.0000 - val_loss: 3.6269e-10 - val_acc: 0.9784\n",
      "Epoch 96/100\n",
      "3500/3500 [==============================] - 1991s 569ms/step - loss: 3.1388e-04 - acc: 1.0000 - val_loss: 1.2971e-10 - val_acc: 0.9784\n",
      "Epoch 97/100\n",
      "3500/3500 [==============================] - 1990s 569ms/step - loss: 2.1726e-04 - acc: 1.0000 - val_loss: 1.6331e-09 - val_acc: 0.9785\n",
      "Epoch 98/100\n",
      "3500/3500 [==============================] - 1990s 569ms/step - loss: 3.0157e-04 - acc: 0.9999 - val_loss: 5.6441e-10 - val_acc: 0.9784\n",
      "Epoch 99/100\n",
      "3500/3500 [==============================] - 1990s 569ms/step - loss: 1.4621e-04 - acc: 1.0000 - val_loss: 1.9794e-09 - val_acc: 0.9784\n",
      "Epoch 100/100\n",
      "3500/3500 [==============================] - 1990s 569ms/step - loss: 4.7486e-04 - acc: 0.9999 - val_loss: 2.2051e-09 - val_acc: 0.9784\n"
     ]
    }
   ],
   "source": [
    "history = model.fit_generator(\n",
    "        train_generator,\n",
    "        steps_per_epoch=3500, #每个step表示1个batch_size的数据大小\n",
    "        epochs=100,\n",
    "        validation_data=validation_generator,\n",
    "        callbacks=[learning_rate],\n",
    "        validation_steps=1000)"
   ]
  },
  {
   "cell_type": "code",
   "execution_count": 12,
   "metadata": {},
   "outputs": [
    {
     "data": {
      "image/png": "[encoded data removed]",
      "text/plain": [
       "<Figure size 432x288 with 1 Axes>"
      ]
     },
     "metadata": {
      "needs_background": "light"
     },
     "output_type": "display_data"
    }
   ],
   "source": [
    "import matplotlib.pyplot as plt\n",
    "os.environ[\"KMP_DUPLICATE_LIB_OK\"]=\"TRUE\"\n",
    "\n",
    "acc = history.history['acc']\n",
    "val_acc =  history.history['val_acc']\n",
    "loss = history.history['loss']\n",
    "val_loss = history.history['val_loss']\n",
    "\n",
    "epochs = range(1, len(acc) + 1)\n",
    "\n",
    "plt.plot(epochs, acc, 'bo', label='Training acc')\n",
    "plt.plot(epochs, val_acc, 'b', label='Validation acc')\n",
    "plt.title('Training and validation accuracy')\n",
    "plt.legend()\n",
    "\n",
    "plt.show()"
   ]
  },
  {
   "cell_type": "code",
   "execution_count": 13,
   "metadata": {},
   "outputs": [
    {
     "data": {
      "image/png": "[encoded data removed]",
      "text/plain": [
       "<Figure size 432x288 with 1 Axes>"
      ]
     },
     "metadata": {
      "needs_background": "light"
     },
     "output_type": "display_data"
    }
   ],
   "source": [
    "plt.plot(epochs, loss, 'bo', label='Training loss')\n",
    "plt.plot(epochs, val_loss, 'b', label='Validation loss')\n",
    "plt.title('Training and validation loss')\n",
    "plt.legend()\n",
    "\n",
    "plt.show()"
   ]
  },
  {
   "cell_type": "code",
   "execution_count": null,
   "metadata": {},
   "outputs": [],
   "source": []
  }
 ],
 "metadata": {
  "kernelspec": {
   "display_name": "Python 3",
   "language": "python",
   "name": "python3"
  },
  "language_info": {
   "codemirror_mode": {
    "name": "ipython",
    "version": 3
   },
   "file_extension": ".py",
   "mimetype": "text/x-python",
   "name": "python",
   "nbconvert_exporter": "python",
   "pygments_lexer": "ipython3",
   "version": "3.5.2"
  }
 },
 "nbformat": 4,
 "nbformat_minor": 4
}
