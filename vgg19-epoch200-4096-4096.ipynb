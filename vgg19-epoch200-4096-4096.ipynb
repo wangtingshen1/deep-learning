{
 "cells": [
  {
   "cell_type": "code",
   "execution_count": 1,
   "metadata": {},
   "outputs": [],
   "source": [
    "import os,shutil\n",
    "original_dataset_dir_female = '/home/wangtingshen/tingshen-code/female/'\n",
    "original_dataset_dir_male = '/home/wangtingshen/tingshen-code/male/'"
   ]
  },
  {
   "cell_type": "code",
   "execution_count": 2,
   "metadata": {},
   "outputs": [],
   "source": [
    "#保存较小的数据集\n",
    "base_dir = '/home/wangtingshen/tingshen-code/real-dataset'\n",
    "os.mkdir(base_dir)"
   ]
  },
  {
   "cell_type": "code",
   "execution_count": 3,
   "metadata": {},
   "outputs": [],
   "source": [
    "#拼接子路径，划分训练、验证、测试集\n",
    "train_dir = os.path.join(base_dir,'train')\n",
    "os.mkdir(train_dir)\n",
    "validation_dir = os.path.join(base_dir,'validation')\n",
    "os.mkdir(validation_dir)\n",
    "test_dir = os.path.join(base_dir,'test')\n",
    "os.mkdir(test_dir)"
   ]
  },
  {
   "cell_type": "code",
   "execution_count": 4,
   "metadata": {},
   "outputs": [],
   "source": [
    "#训练女性图像目录\n",
    "train_female_dir = os.path.join(train_dir,'female')\n",
    "os.mkdir(train_female_dir)"
   ]
  },
  {
   "cell_type": "code",
   "execution_count": 5,
   "metadata": {},
   "outputs": [],
   "source": [
    "#训练男性图像目录\n",
    "train_male_dir = os.path.join(train_dir,'male')\n",
    "os.mkdir(train_male_dir)"
   ]
  },
  {
   "cell_type": "code",
   "execution_count": 6,
   "metadata": {},
   "outputs": [],
   "source": [
    "#验证女性图像目录\n",
    "validation_female_dir = os.path.join(validation_dir,'female')\n",
    "os.mkdir(validation_female_dir)"
   ]
  },
  {
   "cell_type": "code",
   "execution_count": 7,
   "metadata": {},
   "outputs": [],
   "source": [
    "#验证男性图像目录\n",
    "validation_male_dir = os.path.join(validation_dir,'male')\n",
    "os.mkdir(validation_male_dir)"
   ]
  },
  {
   "cell_type": "code",
   "execution_count": 8,
   "metadata": {},
   "outputs": [],
   "source": [
    "#测试女性图像目录\n",
    "test_female_dir = os.path.join(test_dir,'female')\n",
    "os.mkdir(test_female_dir)"
   ]
  },
  {
   "cell_type": "code",
   "execution_count": 9,
   "metadata": {},
   "outputs": [],
   "source": [
    "#测试男性图像目录\n",
    "test_male_dir = os.path.join(test_dir,'male')\n",
    "os.mkdir(test_male_dir)"
   ]
  },
  {
   "cell_type": "code",
   "execution_count": 10,
   "metadata": {},
   "outputs": [],
   "source": [
    "#将前70000张女性复制到train_female_dir\n",
    "fnames = ['female.{}.jpg'.format(i+1) for i in range(70000)]\n",
    "for fname in fnames:\n",
    "    src = os.path.join(original_dataset_dir_female, fname)\n",
    "    dst = os.path.join(train_female_dir, fname)\n",
    "    shutil.copyfile(src, dst)"
   ]
  },
  {
   "cell_type": "code",
   "execution_count": 11,
   "metadata": {},
   "outputs": [],
   "source": [
    "#将前5000张女性复制到validation_female_dir\n",
    "fnames = ['female.{}.jpg'.format(i+1) for i in range(70000,75000)]\n",
    "for fname in fnames:\n",
    "    src = os.path.join(original_dataset_dir_female, fname)\n",
    "    dst = os.path.join(validation_female_dir, fname)\n",
    "    shutil.copyfile(src, dst)"
   ]
  },
  {
   "cell_type": "code",
   "execution_count": 12,
   "metadata": {},
   "outputs": [],
   "source": [
    "#将前5000张女性复制到test_female_dir\n",
    "fnames = ['female.{}.jpg'.format(i+1) for i in range(75000,80000)]\n",
    "for fname in fnames:\n",
    "    src = os.path.join(original_dataset_dir_female, fname)\n",
    "    dst = os.path.join(test_female_dir, fname)\n",
    "    shutil.copyfile(src, dst)"
   ]
  },
  {
   "cell_type": "code",
   "execution_count": 13,
   "metadata": {},
   "outputs": [],
   "source": [
    "#将前70000张男性复制到train_male_dir\n",
    "fnames = ['male.{}.jpg'.format(i+1) for i in range(70000)]\n",
    "for fname in fnames:\n",
    "    src = os.path.join(original_dataset_dir_male, fname)\n",
    "    dst = os.path.join(train_male_dir, fname)\n",
    "    shutil.copyfile(src, dst)"
   ]
  },
  {
   "cell_type": "code",
   "execution_count": 14,
   "metadata": {},
   "outputs": [],
   "source": [
    "#将前5000张男性复制到validation_male_dir\n",
    "fnames = ['male.{}.jpg'.format(i+1) for i in range(70000,75000)]\n",
    "for fname in fnames:\n",
    "    src = os.path.join(original_dataset_dir_male, fname)\n",
    "    dst = os.path.join(validation_male_dir, fname)\n",
    "    shutil.copyfile(src, dst)"
   ]
  },
  {
   "cell_type": "code",
   "execution_count": 15,
   "metadata": {},
   "outputs": [],
   "source": [
    "#将前5000张男性复制到test_male_dir\n",
    "fnames = ['male.{}.jpg'.format(i+1) for i in range(75000,80000)]\n",
    "for fname in fnames:\n",
    "    src = os.path.join(original_dataset_dir_male, fname)\n",
    "    dst = os.path.join(test_male_dir, fname)\n",
    "    shutil.copyfile(src, dst)"
   ]
  },
  {
   "cell_type": "code",
   "execution_count": 16,
   "metadata": {},
   "outputs": [
    {
     "name": "stdout",
     "output_type": "stream",
     "text": [
      "total training female images: 70000\n",
      "total training male images: 70000\n",
      "total validation female images: 5000\n",
      "total validation male images: 5000\n",
      "total test female images: 5000\n",
      "total test male images: 5000\n"
     ]
    }
   ],
   "source": [
    "print('total training female images:',len(os.listdir(train_female_dir)))\n",
    "print('total training male images:',len(os.listdir(train_male_dir)))\n",
    "print('total validation female images:',len(os.listdir(validation_female_dir)))\n",
    "print('total validation male images:',len(os.listdir(validation_male_dir)))\n",
    "print('total test female images:',len(os.listdir(test_female_dir)))\n",
    "print('total test male images:',len(os.listdir(test_male_dir)))"
   ]
  },
  {
   "cell_type": "code",
   "execution_count": 17,
   "metadata": {},
   "outputs": [
    {
     "name": "stderr",
     "output_type": "stream",
     "text": [
      "Using TensorFlow backend.\n"
     ]
    }
   ],
   "source": [
    "from keras import models\n",
    "from keras import layers"
   ]
  },
  {
   "cell_type": "code",
   "execution_count": 18,
   "metadata": {},
   "outputs": [
    {
     "name": "stdout",
     "output_type": "stream",
     "text": [
      "Found 140000 images belonging to 2 classes.\n",
      "Found 10000 images belonging to 2 classes.\n"
     ]
    }
   ],
   "source": [
    "from keras.preprocessing.image import ImageDataGenerator\n",
    "\n",
    "train_datagen = ImageDataGenerator(rescale=1./255)\n",
    "test_datagen = ImageDataGenerator(rescale=1./255)\n",
    "\n",
    "#默认打乱数据\n",
    "train_generator = train_datagen.flow_from_directory(\n",
    "        train_dir,\n",
    "        target_size=(224,224),\n",
    "        batch_size=35,\n",
    "        class_mode='binary')\n",
    "\n",
    "validation_generator = test_datagen.flow_from_directory(\n",
    "        validation_dir,\n",
    "        target_size=(224,224),\n",
    "        batch_size=35,\n",
    "        class_mode='binary')"
   ]
  },
  {
   "cell_type": "code",
   "execution_count": 19,
   "metadata": {},
   "outputs": [
    {
     "name": "stdout",
     "output_type": "stream",
     "text": [
      "data batch shape: (35, 224, 224, 3)\n",
      "labels batch shape: (35,)\n"
     ]
    }
   ],
   "source": [
    "for data_batch, labels_batch in train_generator:\n",
    "    print('data batch shape:', data_batch.shape)\n",
    "    print('labels batch shape:', labels_batch.shape)\n",
    "    break"
   ]
  },
  {
   "cell_type": "code",
   "execution_count": 20,
   "metadata": {},
   "outputs": [
    {
     "name": "stdout",
     "output_type": "stream",
     "text": [
      "WARNING:tensorflow:From /usr/local/lib/python3.5/dist-packages/keras/backend/tensorflow_backend.py:4070: The name tf.nn.max_pool is deprecated. Please use tf.nn.max_pool2d instead.\n",
      "\n"
     ]
    }
   ],
   "source": [
    "import keras\n",
    "from keras.models import Sequential\n",
    "from keras.layers import Dense,Activation,Dropout,Flatten\n",
    "from keras.layers import Conv2D,MaxPool2D\n",
    "from keras.utils import plot_model\n",
    "\n",
    "# 定义输入\n",
    "input_shape = (224,224,3) # RGB影像224x224（height,width,channel)\n",
    "\n",
    "model = models.Sequential()\n",
    "# 第1个卷积区块(block1)\n",
    "model.add(Conv2D(64,(3,3),padding='same',activation='relu',input_shape=input_shape,name='block1_conv1'))\n",
    "model.add(Conv2D(64,(3,3),padding='same',activation='relu',name='block1_conv2'))\n",
    "model.add(MaxPool2D((2,2),strides=(2,2),name='block1_pool'))\n",
    "\n",
    "# 第2个卷积区块(block2)\n",
    "model.add(Conv2D(128,(3,3),padding='same',activation='relu',name='block2_conv1'))\n",
    "model.add(Conv2D(128,(3,3),padding='same',activation='relu',name='block2_conv2'))\n",
    "model.add(MaxPool2D((2,2),strides=(2,2),name='block2_pool'))\n",
    "\n",
    "# 第3个区块(block3)\n",
    "model.add(Conv2D(256,(3,3),padding='same',activation='relu',name='block3_conv1'))\n",
    "model.add(Conv2D(256,(3,3),padding='same',activation='relu',name='block3_conv2'))\n",
    "model.add(Conv2D(256,(3,3),padding='same',activation='relu',name='block3_conv3'))\n",
    "model.add(MaxPool2D((2,2),strides=(2,2),name='block3_pool'))\n",
    "\n",
    "# 第4个区块(block4)\n",
    "model.add(Conv2D(512,(3,3),padding='same',activation='relu',name='block4_conv1'))\n",
    "model.add(Conv2D(512,(3,3),padding='same',activation='relu',name='block4_conv2'))\n",
    "model.add(Conv2D(512,(3,3),padding='same',activation='relu',name='block4_conv3'))\n",
    "model.add(MaxPool2D((2,2),strides=(2,2),name='block4_pool'))\n",
    "\n",
    "# 第5个区块(block5)\n",
    "model.add(Conv2D(512,(3,3),padding='same',activation='relu',name='block5_conv1'))\n",
    "model.add(Conv2D(512,(3,3),padding='same',activation='relu',name='block5_conv2'))\n",
    "model.add(Conv2D(512,(3,3),padding='same',activation='relu',name='block5_conv3'))\n",
    "model.add(MaxPool2D((2,2),strides=(2,2),name='block5_pool'))\n",
    "\n",
    "# 前馈全连接区块\n",
    "model.add(Flatten(name='flatten'))\n",
    "model.add(Dense(4096,activation='relu',name='fc1'))\n",
    "model.add(Dense(4096,activation='relu',name='fc2'))\n",
    "model.add(Dense(1,activation='sigmoid',name='predictions'))"
   ]
  },
  {
   "cell_type": "code",
   "execution_count": 21,
   "metadata": {},
   "outputs": [
    {
     "name": "stdout",
     "output_type": "stream",
     "text": [
      "Model: \"sequential_1\"\n",
      "_________________________________________________________________\n",
      "Layer (type)                 Output Shape              Param #   \n",
      "=================================================================\n",
      "block1_conv1 (Conv2D)        (None, 224, 224, 64)      1792      \n",
      "_________________________________________________________________\n",
      "block1_conv2 (Conv2D)        (None, 224, 224, 64)      36928     \n",
      "_________________________________________________________________\n",
      "block1_pool (MaxPooling2D)   (None, 112, 112, 64)      0         \n",
      "_________________________________________________________________\n",
      "block2_conv1 (Conv2D)        (None, 112, 112, 128)     73856     \n",
      "_________________________________________________________________\n",
      "block2_conv2 (Conv2D)        (None, 112, 112, 128)     147584    \n",
      "_________________________________________________________________\n",
      "block2_pool (MaxPooling2D)   (None, 56, 56, 128)       0         \n",
      "_________________________________________________________________\n",
      "block3_conv1 (Conv2D)        (None, 56, 56, 256)       295168    \n",
      "_________________________________________________________________\n",
      "block3_conv2 (Conv2D)        (None, 56, 56, 256)       590080    \n",
      "_________________________________________________________________\n",
      "block3_conv3 (Conv2D)        (None, 56, 56, 256)       590080    \n",
      "_________________________________________________________________\n",
      "block3_pool (MaxPooling2D)   (None, 28, 28, 256)       0         \n",
      "_________________________________________________________________\n",
      "block4_conv1 (Conv2D)        (None, 28, 28, 512)       1180160   \n",
      "_________________________________________________________________\n",
      "block4_conv2 (Conv2D)        (None, 28, 28, 512)       2359808   \n",
      "_________________________________________________________________\n",
      "block4_conv3 (Conv2D)        (None, 28, 28, 512)       2359808   \n",
      "_________________________________________________________________\n",
      "block4_pool (MaxPooling2D)   (None, 14, 14, 512)       0         \n",
      "_________________________________________________________________\n",
      "block5_conv1 (Conv2D)        (None, 14, 14, 512)       2359808   \n",
      "_________________________________________________________________\n",
      "block5_conv2 (Conv2D)        (None, 14, 14, 512)       2359808   \n",
      "_________________________________________________________________\n",
      "block5_conv3 (Conv2D)        (None, 14, 14, 512)       2359808   \n",
      "_________________________________________________________________\n",
      "block5_pool (MaxPooling2D)   (None, 7, 7, 512)         0         \n",
      "_________________________________________________________________\n",
      "flatten (Flatten)            (None, 25088)             0         \n",
      "_________________________________________________________________\n",
      "fc1 (Dense)                  (None, 4096)              102764544 \n",
      "_________________________________________________________________\n",
      "fc2 (Dense)                  (None, 4096)              16781312  \n",
      "_________________________________________________________________\n",
      "predictions (Dense)          (None, 1)                 4097      \n",
      "=================================================================\n",
      "Total params: 134,264,641\n",
      "Trainable params: 134,264,641\n",
      "Non-trainable params: 0\n",
      "_________________________________________________________________\n"
     ]
    }
   ],
   "source": [
    "model.summary()"
   ]
  },
  {
   "cell_type": "code",
   "execution_count": 22,
   "metadata": {},
   "outputs": [
    {
     "name": "stdout",
     "output_type": "stream",
     "text": [
      "WARNING:tensorflow:From /usr/local/lib/python3.5/dist-packages/tensorflow/python/ops/nn_impl.py:180: add_dispatch_support.<locals>.wrapper (from tensorflow.python.ops.array_ops) is deprecated and will be removed in a future version.\n",
      "Instructions for updating:\n",
      "Use tf.where in 2.0, which has the same broadcast rule as np.where\n"
     ]
    }
   ],
   "source": [
    "from keras import optimizers\n",
    "\n",
    "model.compile(loss='binary_crossentropy', optimizer=optimizers.RMSprop(lr=1e-4), metrics=['acc'])"
   ]
  },
  {
   "cell_type": "code",
   "execution_count": 23,
   "metadata": {},
   "outputs": [
    {
     "name": "stdout",
     "output_type": "stream",
     "text": [
      "WARNING:tensorflow:From /usr/local/lib/python3.5/dist-packages/keras/backend/tensorflow_backend.py:422: The name tf.global_variables is deprecated. Please use tf.compat.v1.global_variables instead.\n",
      "\n",
      "Epoch 1/200\n",
      "2000/2000 [==============================] - 517s 258ms/step - loss: 0.2672 - acc: 0.8791 - val_loss: 0.3325 - val_acc: 0.9451\n",
      "Epoch 2/200\n",
      "2000/2000 [==============================] - 503s 252ms/step - loss: 0.1185 - acc: 0.9588 - val_loss: 0.4205 - val_acc: 0.9674\n",
      "Epoch 3/200\n",
      "2000/2000 [==============================] - 505s 253ms/step - loss: 0.0987 - acc: 0.9664 - val_loss: 0.0620 - val_acc: 0.9737\n",
      "Epoch 4/200\n",
      "2000/2000 [==============================] - 507s 253ms/step - loss: 0.0919 - acc: 0.9689 - val_loss: 0.3200 - val_acc: 0.9669\n",
      "Epoch 5/200\n",
      "2000/2000 [==============================] - 510s 255ms/step - loss: 0.0842 - acc: 0.9717 - val_loss: 0.0677 - val_acc: 0.9691\n",
      "Epoch 6/200\n",
      "2000/2000 [==============================] - 517s 259ms/step - loss: 0.0857 - acc: 0.9729 - val_loss: 0.1500 - val_acc: 0.9529\n",
      "Epoch 7/200\n",
      "2000/2000 [==============================] - 517s 259ms/step - loss: 0.0813 - acc: 0.9747 - val_loss: 0.0254 - val_acc: 0.9766\n",
      "Epoch 8/200\n",
      "2000/2000 [==============================] - 519s 259ms/step - loss: 0.0826 - acc: 0.9745 - val_loss: 0.0033 - val_acc: 0.9703\n",
      "Epoch 9/200\n",
      "2000/2000 [==============================] - 523s 261ms/step - loss: 2.1293 - acc: 0.9752 - val_loss: 3.8510e-04 - val_acc: 0.9811\n",
      "Epoch 10/200\n",
      "2000/2000 [==============================] - 526s 263ms/step - loss: 0.0785 - acc: 0.9760 - val_loss: 0.0414 - val_acc: 0.9771\n",
      "Epoch 11/200\n",
      "2000/2000 [==============================] - 529s 265ms/step - loss: 0.0784 - acc: 0.9775 - val_loss: 0.1068 - val_acc: 0.9754\n",
      "Epoch 12/200\n",
      "2000/2000 [==============================] - 532s 266ms/step - loss: 0.0808 - acc: 0.9757 - val_loss: 0.0363 - val_acc: 0.9793\n",
      "Epoch 13/200\n",
      "2000/2000 [==============================] - 535s 268ms/step - loss: 0.0783 - acc: 0.9764 - val_loss: 0.0038 - val_acc: 0.9789\n",
      "Epoch 14/200\n",
      "2000/2000 [==============================] - 536s 268ms/step - loss: 0.0914 - acc: 0.9764 - val_loss: 0.0914 - val_acc: 0.9634\n",
      "Epoch 15/200\n",
      "2000/2000 [==============================] - 535s 267ms/step - loss: 0.0788 - acc: 0.9760 - val_loss: 0.0333 - val_acc: 0.9623\n",
      "Epoch 16/200\n",
      "2000/2000 [==============================] - 537s 268ms/step - loss: 0.0994 - acc: 0.9763 - val_loss: 0.1442 - val_acc: 0.9577\n",
      "Epoch 17/200\n",
      "2000/2000 [==============================] - 537s 268ms/step - loss: 0.1011 - acc: 0.9764 - val_loss: 0.0063 - val_acc: 0.9691\n",
      "Epoch 18/200\n",
      "2000/2000 [==============================] - 537s 268ms/step - loss: 0.0978 - acc: 0.9761 - val_loss: 0.0148 - val_acc: 0.9747\n",
      "Epoch 19/200\n",
      "2000/2000 [==============================] - 537s 269ms/step - loss: 0.2264 - acc: 0.9766 - val_loss: 0.0586 - val_acc: 0.9737\n",
      "Epoch 20/200\n",
      "2000/2000 [==============================] - 537s 269ms/step - loss: 0.0947 - acc: 0.9763 - val_loss: 0.1653 - val_acc: 0.9651\n",
      "Epoch 21/200\n",
      "2000/2000 [==============================] - 537s 269ms/step - loss: 0.0798 - acc: 0.9775 - val_loss: 0.0697 - val_acc: 0.9691\n",
      "Epoch 22/200\n",
      "2000/2000 [==============================] - 537s 268ms/step - loss: 0.0961 - acc: 0.9761 - val_loss: 0.0032 - val_acc: 0.9817\n",
      "Epoch 23/200\n",
      "2000/2000 [==============================] - 536s 268ms/step - loss: 0.1395 - acc: 0.9776 - val_loss: 0.0037 - val_acc: 0.9730\n",
      "Epoch 24/200\n",
      "2000/2000 [==============================] - 536s 268ms/step - loss: 0.0879 - acc: 0.9771 - val_loss: 0.0073 - val_acc: 0.9703\n",
      "Epoch 25/200\n",
      "2000/2000 [==============================] - 537s 268ms/step - loss: 1.4041 - acc: 0.9767 - val_loss: 0.0239 - val_acc: 0.9703\n",
      "Epoch 26/200\n",
      "2000/2000 [==============================] - 537s 268ms/step - loss: 0.1131 - acc: 0.9766 - val_loss: 0.1619 - val_acc: 0.9789\n",
      "Epoch 27/200\n",
      "2000/2000 [==============================] - 537s 269ms/step - loss: 0.0977 - acc: 0.9756 - val_loss: 1.4567 - val_acc: 0.9794\n",
      "Epoch 28/200\n",
      "2000/2000 [==============================] - 537s 269ms/step - loss: 0.0849 - acc: 0.9747 - val_loss: 0.0182 - val_acc: 0.9680\n",
      "Epoch 29/200\n",
      "2000/2000 [==============================] - 537s 269ms/step - loss: 0.2573 - acc: 0.9755 - val_loss: 7.2672e-05 - val_acc: 0.9747\n",
      "Epoch 30/200\n",
      "2000/2000 [==============================] - 537s 268ms/step - loss: 0.1197 - acc: 0.9762 - val_loss: 0.0146 - val_acc: 0.9731\n",
      "Epoch 31/200\n",
      "2000/2000 [==============================] - 536s 268ms/step - loss: 0.5671 - acc: 0.9763 - val_loss: 0.0034 - val_acc: 0.9737\n",
      "Epoch 32/200\n",
      "2000/2000 [==============================] - 536s 268ms/step - loss: 0.0857 - acc: 0.9753 - val_loss: 0.0720 - val_acc: 0.9777\n",
      "Epoch 33/200\n",
      "2000/2000 [==============================] - 536s 268ms/step - loss: 2.2061 - acc: 0.9755 - val_loss: 0.0109 - val_acc: 0.9720\n",
      "Epoch 34/200\n",
      "2000/2000 [==============================] - 536s 268ms/step - loss: 2.9339 - acc: 0.9750 - val_loss: 0.4465 - val_acc: 0.9703\n",
      "Epoch 35/200\n",
      "2000/2000 [==============================] - 513s 257ms/step - loss: 0.1355 - acc: 0.9773 - val_loss: 5.0099e-04 - val_acc: 0.9833\n",
      "Epoch 36/200\n",
      "2000/2000 [==============================] - 513s 257ms/step - loss: 0.0876 - acc: 0.9757 - val_loss: 0.0555 - val_acc: 0.9651\n",
      "Epoch 37/200\n",
      "2000/2000 [==============================] - 513s 257ms/step - loss: 0.2735 - acc: 0.9765 - val_loss: 0.0985 - val_acc: 0.9806\n",
      "Epoch 38/200\n",
      "2000/2000 [==============================] - 513s 257ms/step - loss: 4.4657 - acc: 0.9739 - val_loss: 0.0266 - val_acc: 0.9737\n",
      "Epoch 39/200\n",
      "2000/2000 [==============================] - 514s 257ms/step - loss: 0.1356 - acc: 0.9756 - val_loss: 0.0513 - val_acc: 0.9714\n",
      "Epoch 40/200\n",
      "2000/2000 [==============================] - 514s 257ms/step - loss: 0.1072 - acc: 0.9750 - val_loss: 0.0730 - val_acc: 0.9709\n",
      "Epoch 41/200\n",
      "2000/2000 [==============================] - 513s 257ms/step - loss: 0.0899 - acc: 0.9750 - val_loss: 0.0400 - val_acc: 0.9655\n",
      "Epoch 42/200\n",
      "2000/2000 [==============================] - 513s 257ms/step - loss: 0.1022 - acc: 0.9728 - val_loss: 0.7217 - val_acc: 0.9731\n",
      "Epoch 43/200\n",
      "2000/2000 [==============================] - 513s 257ms/step - loss: 0.1609 - acc: 0.9707 - val_loss: 0.0911 - val_acc: 0.9417\n",
      "Epoch 44/200\n",
      "2000/2000 [==============================] - 513s 257ms/step - loss: 2.0583 - acc: 0.9730 - val_loss: 0.3397 - val_acc: 0.9434\n",
      "Epoch 45/200\n",
      "2000/2000 [==============================] - 513s 257ms/step - loss: 0.1081 - acc: 0.9727 - val_loss: 2.4980e-04 - val_acc: 0.9806\n",
      "Epoch 46/200\n",
      "2000/2000 [==============================] - 513s 257ms/step - loss: 1.6023 - acc: 0.9744 - val_loss: 0.0883 - val_acc: 0.9713\n",
      "Epoch 47/200\n",
      "2000/2000 [==============================] - 513s 257ms/step - loss: 0.1305 - acc: 0.9743 - val_loss: 0.0398 - val_acc: 0.9766\n",
      "Epoch 48/200\n",
      "2000/2000 [==============================] - 513s 257ms/step - loss: 0.1217 - acc: 0.9736 - val_loss: 0.2145 - val_acc: 0.9783\n",
      "Epoch 49/200\n",
      "2000/2000 [==============================] - 513s 257ms/step - loss: 0.1326 - acc: 0.9716 - val_loss: 0.0381 - val_acc: 0.9566\n",
      "Epoch 50/200\n",
      "2000/2000 [==============================] - 513s 256ms/step - loss: 0.1527 - acc: 0.9715 - val_loss: 0.0776 - val_acc: 0.9754\n",
      "Epoch 51/200\n",
      "2000/2000 [==============================] - 513s 256ms/step - loss: 0.2479 - acc: 0.9721 - val_loss: 0.0111 - val_acc: 0.9737\n",
      "Epoch 52/200\n",
      "2000/2000 [==============================] - 513s 257ms/step - loss: 1.4553 - acc: 0.9687 - val_loss: 0.1147 - val_acc: 0.9747\n",
      "Epoch 53/200\n",
      "2000/2000 [==============================] - 513s 256ms/step - loss: 0.1578 - acc: 0.9698 - val_loss: 0.0524 - val_acc: 0.9743\n",
      "Epoch 54/200\n",
      "2000/2000 [==============================] - 513s 256ms/step - loss: 0.1346 - acc: 0.9696 - val_loss: 0.0046 - val_acc: 0.9657\n",
      "Epoch 55/200\n",
      "2000/2000 [==============================] - 512s 256ms/step - loss: 0.2673 - acc: 0.9666 - val_loss: 0.0057 - val_acc: 0.9686\n",
      "Epoch 56/200\n",
      "2000/2000 [==============================] - 512s 256ms/step - loss: 0.2018 - acc: 0.9666 - val_loss: 0.0130 - val_acc: 0.9657\n",
      "Epoch 57/200\n",
      "2000/2000 [==============================] - 512s 256ms/step - loss: 0.1727 - acc: 0.9668 - val_loss: 0.0784 - val_acc: 0.9720\n",
      "Epoch 58/200\n"
     ]
    },
    {
     "name": "stdout",
     "output_type": "stream",
     "text": [
      "2000/2000 [==============================] - 494s 247ms/step - loss: 0.4584 - acc: 0.9612 - val_loss: 0.6966 - val_acc: 0.7034\n",
      "Epoch 59/200\n",
      "2000/2000 [==============================] - 492s 246ms/step - loss: 1.4428 - acc: 0.6919 - val_loss: 0.5144 - val_acc: 0.7480\n",
      "Epoch 60/200\n",
      "2000/2000 [==============================] - 492s 246ms/step - loss: 1.0442 - acc: 0.6876 - val_loss: 0.7933 - val_acc: 0.7183\n",
      "Epoch 61/200\n",
      "2000/2000 [==============================] - 492s 246ms/step - loss: 1.6324 - acc: 0.7132 - val_loss: 0.6028 - val_acc: 0.7331\n",
      "Epoch 62/200\n",
      "2000/2000 [==============================] - 492s 246ms/step - loss: 0.8397 - acc: 0.7268 - val_loss: 0.6183 - val_acc: 0.6109\n",
      "Epoch 63/200\n",
      "2000/2000 [==============================] - 491s 246ms/step - loss: 7.3081 - acc: 0.7065 - val_loss: 0.5786 - val_acc: 0.6730\n",
      "Epoch 64/200\n",
      "2000/2000 [==============================] - 492s 246ms/step - loss: 14286.3301 - acc: 0.7482 - val_loss: 0.6205 - val_acc: 0.7223\n",
      "Epoch 65/200\n",
      "2000/2000 [==============================] - 490s 245ms/step - loss: 239.8742 - acc: 0.5266 - val_loss: 0.6966 - val_acc: 0.5017\n",
      "Epoch 66/200\n",
      "2000/2000 [==============================] - 490s 245ms/step - loss: 0.7487 - acc: 0.4997 - val_loss: 0.6908 - val_acc: 0.5029\n",
      "Epoch 67/200\n",
      "2000/2000 [==============================] - 489s 245ms/step - loss: 0.6935 - acc: 0.4993 - val_loss: 0.6921 - val_acc: 0.5200\n",
      "Epoch 68/200\n",
      "2000/2000 [==============================] - 489s 245ms/step - loss: 0.6934 - acc: 0.5008 - val_loss: 0.7001 - val_acc: 0.4937\n",
      "Epoch 69/200\n",
      "2000/2000 [==============================] - 489s 245ms/step - loss: 0.6934 - acc: 0.5011 - val_loss: 0.6929 - val_acc: 0.5006\n",
      "Epoch 70/200\n",
      "2000/2000 [==============================] - 489s 245ms/step - loss: 0.6933 - acc: 0.4971 - val_loss: 0.6950 - val_acc: 0.4960\n",
      "Epoch 71/200\n",
      "2000/2000 [==============================] - 489s 245ms/step - loss: 0.6933 - acc: 0.4998 - val_loss: 0.6929 - val_acc: 0.4720\n",
      "Epoch 72/200\n",
      "2000/2000 [==============================] - 490s 245ms/step - loss: 0.6933 - acc: 0.4974 - val_loss: 0.6970 - val_acc: 0.5006\n",
      "Epoch 73/200\n",
      "2000/2000 [==============================] - 490s 245ms/step - loss: 0.6933 - acc: 0.5002 - val_loss: 0.6922 - val_acc: 0.5074\n",
      "Epoch 74/200\n",
      "2000/2000 [==============================] - 498s 249ms/step - loss: 0.6932 - acc: 0.4997 - val_loss: 0.6944 - val_acc: 0.4857\n",
      "Epoch 75/200\n",
      "2000/2000 [==============================] - 509s 254ms/step - loss: 0.6932 - acc: 0.5004 - val_loss: 0.6907 - val_acc: 0.4960\n",
      "Epoch 76/200\n",
      "2000/2000 [==============================] - 508s 254ms/step - loss: 0.6932 - acc: 0.4988 - val_loss: 0.6928 - val_acc: 0.5057\n",
      "Epoch 77/200\n",
      "2000/2000 [==============================] - 508s 254ms/step - loss: 0.6932 - acc: 0.5025 - val_loss: 0.6941 - val_acc: 0.5143\n",
      "Epoch 78/200\n",
      "2000/2000 [==============================] - 508s 254ms/step - loss: 0.6932 - acc: 0.4992 - val_loss: 0.6898 - val_acc: 0.5149\n",
      "Epoch 79/200\n",
      "2000/2000 [==============================] - 509s 254ms/step - loss: 0.6932 - acc: 0.4972 - val_loss: 0.6922 - val_acc: 0.5011\n",
      "Epoch 80/200\n",
      "2000/2000 [==============================] - 509s 254ms/step - loss: 0.6932 - acc: 0.5006 - val_loss: 0.6931 - val_acc: 0.4989\n",
      "Epoch 81/200\n",
      "2000/2000 [==============================] - 508s 254ms/step - loss: 0.6932 - acc: 0.4977 - val_loss: 0.6930 - val_acc: 0.4799\n",
      "Epoch 82/200\n",
      "2000/2000 [==============================] - 508s 254ms/step - loss: 0.6932 - acc: 0.5015 - val_loss: 0.6927 - val_acc: 0.4903\n",
      "Epoch 83/200\n",
      "2000/2000 [==============================] - 508s 254ms/step - loss: 0.6932 - acc: 0.5002 - val_loss: 0.6930 - val_acc: 0.5063\n",
      "Epoch 84/200\n",
      "2000/2000 [==============================] - 508s 254ms/step - loss: 0.6932 - acc: 0.5016 - val_loss: 0.6933 - val_acc: 0.4977\n",
      "Epoch 85/200\n",
      "2000/2000 [==============================] - 508s 254ms/step - loss: 0.6932 - acc: 0.4996 - val_loss: 0.6924 - val_acc: 0.5057\n",
      "Epoch 86/200\n",
      "2000/2000 [==============================] - 508s 254ms/step - loss: 0.6932 - acc: 0.5010 - val_loss: 0.6942 - val_acc: 0.4799\n",
      "Epoch 87/200\n",
      "2000/2000 [==============================] - 508s 254ms/step - loss: 0.6932 - acc: 0.5006 - val_loss: 0.6946 - val_acc: 0.4983\n",
      "Epoch 88/200\n",
      "2000/2000 [==============================] - 508s 254ms/step - loss: 0.6932 - acc: 0.5001 - val_loss: 0.6931 - val_acc: 0.5034\n",
      "Epoch 89/200\n",
      "2000/2000 [==============================] - 508s 254ms/step - loss: 0.6932 - acc: 0.4999 - val_loss: 0.6921 - val_acc: 0.4943\n",
      "Epoch 90/200\n",
      "2000/2000 [==============================] - 508s 254ms/step - loss: 0.6932 - acc: 0.4974 - val_loss: 0.6920 - val_acc: 0.5000\n",
      "Epoch 91/200\n",
      "2000/2000 [==============================] - 508s 254ms/step - loss: 0.6932 - acc: 0.4987 - val_loss: 0.6925 - val_acc: 0.4834\n",
      "Epoch 92/200\n",
      "2000/2000 [==============================] - 508s 254ms/step - loss: 0.6932 - acc: 0.5014 - val_loss: 0.6917 - val_acc: 0.4747\n",
      "Epoch 93/200\n",
      "2000/2000 [==============================] - 508s 254ms/step - loss: 0.6932 - acc: 0.4981 - val_loss: 0.7005 - val_acc: 0.5074\n",
      "Epoch 94/200\n",
      "2000/2000 [==============================] - 508s 254ms/step - loss: 0.6932 - acc: 0.4964 - val_loss: 0.6929 - val_acc: 0.4909\n",
      "Epoch 95/200\n",
      "2000/2000 [==============================] - 508s 254ms/step - loss: 0.6932 - acc: 0.5009 - val_loss: 0.6936 - val_acc: 0.5109\n",
      "Epoch 96/200\n",
      "2000/2000 [==============================] - 508s 254ms/step - loss: 0.6932 - acc: 0.5010 - val_loss: 0.6922 - val_acc: 0.5057\n",
      "Epoch 97/200\n",
      "2000/2000 [==============================] - 509s 254ms/step - loss: 0.6932 - acc: 0.5045 - val_loss: 0.6942 - val_acc: 0.5086\n",
      "Epoch 98/200\n",
      "2000/2000 [==============================] - 509s 254ms/step - loss: 0.6932 - acc: 0.4987 - val_loss: 0.6921 - val_acc: 0.5086\n",
      "Epoch 99/200\n",
      "2000/2000 [==============================] - 508s 254ms/step - loss: 0.6932 - acc: 0.4983 - val_loss: 0.6907 - val_acc: 0.4983\n",
      "Epoch 100/200\n",
      "2000/2000 [==============================] - 509s 254ms/step - loss: 0.6932 - acc: 0.4969 - val_loss: 0.6916 - val_acc: 0.4983\n",
      "Epoch 101/200\n",
      "2000/2000 [==============================] - 508s 254ms/step - loss: 0.6932 - acc: 0.4983 - val_loss: 0.6902 - val_acc: 0.5109\n",
      "Epoch 102/200\n",
      "2000/2000 [==============================] - 508s 254ms/step - loss: 0.6932 - acc: 0.5000 - val_loss: 0.6943 - val_acc: 0.5011\n",
      "Epoch 103/200\n",
      "2000/2000 [==============================] - 508s 254ms/step - loss: 0.6932 - acc: 0.5020 - val_loss: 0.6933 - val_acc: 0.5006\n",
      "Epoch 104/200\n",
      "2000/2000 [==============================] - 508s 254ms/step - loss: 0.6932 - acc: 0.5011 - val_loss: 0.6953 - val_acc: 0.5103\n",
      "Epoch 105/200\n",
      "2000/2000 [==============================] - 509s 254ms/step - loss: 0.6932 - acc: 0.5012 - val_loss: 0.6936 - val_acc: 0.4977\n",
      "Epoch 106/200\n",
      "2000/2000 [==============================] - 509s 254ms/step - loss: 0.6932 - acc: 0.4991 - val_loss: 0.6929 - val_acc: 0.5091\n",
      "Epoch 107/200\n",
      "2000/2000 [==============================] - 508s 254ms/step - loss: 0.6932 - acc: 0.4989 - val_loss: 0.6932 - val_acc: 0.4823\n",
      "Epoch 108/200\n",
      "2000/2000 [==============================] - 508s 254ms/step - loss: 0.6932 - acc: 0.5006 - val_loss: 0.6942 - val_acc: 0.5057\n",
      "Epoch 109/200\n",
      "2000/2000 [==============================] - 508s 254ms/step - loss: 0.6932 - acc: 0.5015 - val_loss: 0.6931 - val_acc: 0.5017\n",
      "Epoch 110/200\n",
      "2000/2000 [==============================] - 508s 254ms/step - loss: 0.6932 - acc: 0.4999 - val_loss: 0.6937 - val_acc: 0.4926\n",
      "Epoch 111/200\n",
      "2000/2000 [==============================] - 508s 254ms/step - loss: 0.6932 - acc: 0.5010 - val_loss: 0.6954 - val_acc: 0.4914\n",
      "Epoch 112/200\n",
      "2000/2000 [==============================] - 508s 254ms/step - loss: 0.6932 - acc: 0.4996 - val_loss: 0.6956 - val_acc: 0.5051\n",
      "Epoch 113/200\n",
      "2000/2000 [==============================] - 508s 254ms/step - loss: 0.6932 - acc: 0.5005 - val_loss: 0.6961 - val_acc: 0.5177\n",
      "Epoch 114/200\n",
      "2000/2000 [==============================] - 508s 254ms/step - loss: 0.6932 - acc: 0.5002 - val_loss: 0.6957 - val_acc: 0.5023\n",
      "Epoch 115/200\n",
      "2000/2000 [==============================] - 508s 254ms/step - loss: 0.6932 - acc: 0.4984 - val_loss: 0.6950 - val_acc: 0.4856\n",
      "Epoch 116/200\n"
     ]
    },
    {
     "name": "stdout",
     "output_type": "stream",
     "text": [
      "2000/2000 [==============================] - 490s 245ms/step - loss: 0.6932 - acc: 0.5009 - val_loss: 0.6933 - val_acc: 0.4937\n",
      "Epoch 117/200\n",
      "2000/2000 [==============================] - 490s 245ms/step - loss: 0.6932 - acc: 0.4970 - val_loss: 0.6940 - val_acc: 0.4977\n",
      "Epoch 118/200\n",
      "2000/2000 [==============================] - 490s 245ms/step - loss: 0.6932 - acc: 0.5004 - val_loss: 0.6931 - val_acc: 0.5223\n",
      "Epoch 119/200\n",
      "2000/2000 [==============================] - 492s 246ms/step - loss: 0.6932 - acc: 0.4980 - val_loss: 0.6949 - val_acc: 0.4971\n",
      "Epoch 120/200\n",
      "2000/2000 [==============================] - 491s 246ms/step - loss: 0.6932 - acc: 0.4994 - val_loss: 0.6928 - val_acc: 0.5006\n",
      "Epoch 121/200\n",
      "2000/2000 [==============================] - 490s 245ms/step - loss: 0.6932 - acc: 0.4980 - val_loss: 0.6942 - val_acc: 0.4908\n",
      "Epoch 122/200\n",
      "2000/2000 [==============================] - 490s 245ms/step - loss: 0.6932 - acc: 0.4993 - val_loss: 0.6932 - val_acc: 0.5011\n",
      "Epoch 123/200\n",
      "2000/2000 [==============================] - 490s 245ms/step - loss: 0.6932 - acc: 0.5021 - val_loss: 0.6937 - val_acc: 0.5143\n",
      "Epoch 124/200\n",
      "2000/2000 [==============================] - 490s 245ms/step - loss: 0.6932 - acc: 0.4987 - val_loss: 0.6925 - val_acc: 0.5160\n",
      "Epoch 125/200\n",
      "2000/2000 [==============================] - 490s 245ms/step - loss: 0.6932 - acc: 0.4995 - val_loss: 0.6952 - val_acc: 0.5006\n",
      "Epoch 126/200\n",
      "2000/2000 [==============================] - 490s 245ms/step - loss: 0.6932 - acc: 0.4994 - val_loss: 0.6945 - val_acc: 0.4902\n",
      "Epoch 127/200\n",
      "2000/2000 [==============================] - 490s 245ms/step - loss: 0.6932 - acc: 0.4977 - val_loss: 0.6952 - val_acc: 0.4800\n",
      "Epoch 128/200\n",
      "2000/2000 [==============================] - 490s 245ms/step - loss: 0.6932 - acc: 0.4973 - val_loss: 0.6933 - val_acc: 0.5189\n",
      "Epoch 129/200\n",
      "2000/2000 [==============================] - 490s 245ms/step - loss: 0.6932 - acc: 0.5004 - val_loss: 0.6930 - val_acc: 0.5046\n",
      "Epoch 130/200\n",
      "2000/2000 [==============================] - 490s 245ms/step - loss: 0.6932 - acc: 0.5009 - val_loss: 0.6928 - val_acc: 0.5166\n",
      "Epoch 131/200\n",
      "2000/2000 [==============================] - 490s 245ms/step - loss: 0.6932 - acc: 0.5010 - val_loss: 0.6905 - val_acc: 0.4909\n",
      "Epoch 132/200\n",
      "2000/2000 [==============================] - 490s 245ms/step - loss: 0.6932 - acc: 0.5007 - val_loss: 0.6929 - val_acc: 0.4747\n",
      "Epoch 133/200\n",
      "2000/2000 [==============================] - 490s 245ms/step - loss: 0.6932 - acc: 0.4965 - val_loss: 0.6931 - val_acc: 0.5074\n",
      "Epoch 134/200\n",
      "2000/2000 [==============================] - 490s 245ms/step - loss: 0.6932 - acc: 0.4967 - val_loss: 0.6930 - val_acc: 0.4869\n",
      "Epoch 135/200\n",
      "2000/2000 [==============================] - 490s 245ms/step - loss: 0.6932 - acc: 0.4980 - val_loss: 0.6913 - val_acc: 0.4966\n",
      "Epoch 136/200\n",
      "2000/2000 [==============================] - 490s 245ms/step - loss: 0.6932 - acc: 0.4996 - val_loss: 0.6935 - val_acc: 0.5034\n",
      "Epoch 137/200\n",
      "2000/2000 [==============================] - 490s 245ms/step - loss: 0.6932 - acc: 0.4969 - val_loss: 0.6931 - val_acc: 0.4943\n",
      "Epoch 138/200\n",
      "2000/2000 [==============================] - 490s 245ms/step - loss: 0.6932 - acc: 0.5007 - val_loss: 0.6931 - val_acc: 0.5011\n",
      "Epoch 139/200\n",
      "2000/2000 [==============================] - 490s 245ms/step - loss: 0.6932 - acc: 0.4983 - val_loss: 0.6933 - val_acc: 0.5086\n",
      "Epoch 140/200\n",
      "2000/2000 [==============================] - 490s 245ms/step - loss: 0.6932 - acc: 0.5004 - val_loss: 0.6931 - val_acc: 0.5166\n",
      "Epoch 141/200\n",
      "2000/2000 [==============================] - 490s 245ms/step - loss: 0.6932 - acc: 0.4982 - val_loss: 0.6930 - val_acc: 0.5126\n",
      "Epoch 142/200\n",
      "2000/2000 [==============================] - 490s 245ms/step - loss: 0.6932 - acc: 0.4998 - val_loss: 0.6932 - val_acc: 0.4971\n",
      "Epoch 143/200\n",
      "2000/2000 [==============================] - 490s 245ms/step - loss: 0.6932 - acc: 0.4967 - val_loss: 0.6960 - val_acc: 0.5086\n",
      "Epoch 144/200\n",
      "2000/2000 [==============================] - 489s 245ms/step - loss: 0.6932 - acc: 0.5016 - val_loss: 0.6937 - val_acc: 0.5120\n",
      "Epoch 145/200\n",
      "2000/2000 [==============================] - 490s 245ms/step - loss: 0.6932 - acc: 0.4976 - val_loss: 0.6918 - val_acc: 0.4954\n",
      "Epoch 146/200\n",
      "2000/2000 [==============================] - 490s 245ms/step - loss: 0.6932 - acc: 0.4969 - val_loss: 0.6922 - val_acc: 0.5006\n",
      "Epoch 147/200\n",
      "2000/2000 [==============================] - 490s 245ms/step - loss: 0.6932 - acc: 0.5018 - val_loss: 0.6938 - val_acc: 0.5057\n",
      "Epoch 148/200\n",
      "2000/2000 [==============================] - 490s 245ms/step - loss: 0.6932 - acc: 0.5007 - val_loss: 0.6935 - val_acc: 0.4954\n",
      "Epoch 149/200\n",
      "2000/2000 [==============================] - 490s 245ms/step - loss: 0.6932 - acc: 0.4998 - val_loss: 0.6931 - val_acc: 0.5178\n",
      "Epoch 150/200\n",
      "2000/2000 [==============================] - 488s 244ms/step - loss: 0.6932 - acc: 0.4992 - val_loss: 0.6933 - val_acc: 0.5000\n",
      "Epoch 151/200\n",
      "2000/2000 [==============================] - 488s 244ms/step - loss: 0.6932 - acc: 0.4977 - val_loss: 0.6935 - val_acc: 0.4994\n",
      "Epoch 152/200\n",
      "2000/2000 [==============================] - 488s 244ms/step - loss: 0.6932 - acc: 0.4978 - val_loss: 0.6930 - val_acc: 0.4966\n",
      "Epoch 153/200\n",
      "2000/2000 [==============================] - 488s 244ms/step - loss: 0.6932 - acc: 0.4999 - val_loss: 0.6862 - val_acc: 0.4926\n",
      "Epoch 154/200\n",
      "2000/2000 [==============================] - 488s 244ms/step - loss: 0.6932 - acc: 0.5020 - val_loss: 0.6934 - val_acc: 0.4903\n",
      "Epoch 155/200\n",
      "2000/2000 [==============================] - 488s 244ms/step - loss: 0.6932 - acc: 0.4984 - val_loss: 0.6979 - val_acc: 0.4879\n",
      "Epoch 156/200\n",
      "2000/2000 [==============================] - 489s 244ms/step - loss: 0.6932 - acc: 0.5015 - val_loss: 0.6912 - val_acc: 0.5051\n",
      "Epoch 157/200\n",
      "2000/2000 [==============================] - 489s 245ms/step - loss: 0.6932 - acc: 0.4973 - val_loss: 0.6930 - val_acc: 0.4886\n",
      "Epoch 158/200\n",
      "2000/2000 [==============================] - 489s 244ms/step - loss: 0.6932 - acc: 0.5001 - val_loss: 0.6942 - val_acc: 0.4709\n",
      "Epoch 159/200\n",
      "2000/2000 [==============================] - 488s 244ms/step - loss: 0.6932 - acc: 0.4974 - val_loss: 0.6920 - val_acc: 0.5057\n",
      "Epoch 160/200\n",
      "2000/2000 [==============================] - 488s 244ms/step - loss: 0.6932 - acc: 0.4962 - val_loss: 0.6932 - val_acc: 0.4937\n",
      "Epoch 161/200\n",
      "2000/2000 [==============================] - 489s 244ms/step - loss: 0.6932 - acc: 0.4974 - val_loss: 0.6939 - val_acc: 0.5052\n",
      "Epoch 162/200\n",
      "2000/2000 [==============================] - 489s 244ms/step - loss: 0.6932 - acc: 0.5016 - val_loss: 0.6935 - val_acc: 0.5040\n",
      "Epoch 163/200\n",
      "2000/2000 [==============================] - 488s 244ms/step - loss: 0.6931 - acc: 0.5043 - val_loss: 0.6945 - val_acc: 0.5074\n",
      "Epoch 164/200\n",
      "2000/2000 [==============================] - 488s 244ms/step - loss: 0.6932 - acc: 0.5005 - val_loss: 0.6965 - val_acc: 0.4971\n",
      "Epoch 165/200\n",
      "2000/2000 [==============================] - 488s 244ms/step - loss: 0.6932 - acc: 0.4980 - val_loss: 0.6951 - val_acc: 0.4966\n",
      "Epoch 166/200\n",
      "2000/2000 [==============================] - 488s 244ms/step - loss: 0.6932 - acc: 0.5002 - val_loss: 0.6924 - val_acc: 0.4925\n",
      "Epoch 167/200\n",
      "2000/2000 [==============================] - 489s 244ms/step - loss: 0.6932 - acc: 0.5031 - val_loss: 0.6925 - val_acc: 0.4840\n",
      "Epoch 168/200\n",
      "2000/2000 [==============================] - 488s 244ms/step - loss: 0.6932 - acc: 0.4982 - val_loss: 0.6935 - val_acc: 0.5063\n",
      "Epoch 169/200\n",
      "2000/2000 [==============================] - 489s 244ms/step - loss: 0.6932 - acc: 0.5000 - val_loss: 0.6924 - val_acc: 0.5069\n",
      "Epoch 170/200\n",
      "2000/2000 [==============================] - 489s 244ms/step - loss: 0.6932 - acc: 0.4996 - val_loss: 0.6932 - val_acc: 0.5006\n",
      "Epoch 171/200\n",
      "2000/2000 [==============================] - 489s 244ms/step - loss: 0.6931 - acc: 0.5050 - val_loss: 0.6912 - val_acc: 0.5006\n",
      "Epoch 172/200\n",
      "2000/2000 [==============================] - 489s 244ms/step - loss: 0.6932 - acc: 0.5013 - val_loss: 0.6930 - val_acc: 0.4851\n",
      "Epoch 173/200\n",
      "2000/2000 [==============================] - 489s 244ms/step - loss: 0.6932 - acc: 0.4988 - val_loss: 0.6930 - val_acc: 0.5109\n",
      "Epoch 174/200\n"
     ]
    },
    {
     "name": "stdout",
     "output_type": "stream",
     "text": [
      "2000/2000 [==============================] - 489s 245ms/step - loss: 0.6932 - acc: 0.4987 - val_loss: 0.6928 - val_acc: 0.5109\n",
      "Epoch 175/200\n",
      "2000/2000 [==============================] - 489s 244ms/step - loss: 0.6932 - acc: 0.4972 - val_loss: 0.6930 - val_acc: 0.4914\n",
      "Epoch 176/200\n",
      "2000/2000 [==============================] - 489s 244ms/step - loss: 0.6932 - acc: 0.5024 - val_loss: 0.6939 - val_acc: 0.4966\n",
      "Epoch 177/200\n",
      "2000/2000 [==============================] - 489s 244ms/step - loss: 0.6932 - acc: 0.4981 - val_loss: 0.6906 - val_acc: 0.5211\n",
      "Epoch 178/200\n",
      "2000/2000 [==============================] - 489s 244ms/step - loss: 0.6932 - acc: 0.4995 - val_loss: 0.6934 - val_acc: 0.4885\n",
      "Epoch 179/200\n",
      "2000/2000 [==============================] - 489s 244ms/step - loss: 0.6932 - acc: 0.4971 - val_loss: 0.6925 - val_acc: 0.5074\n",
      "Epoch 180/200\n",
      "2000/2000 [==============================] - 489s 244ms/step - loss: 0.6932 - acc: 0.4978 - val_loss: 0.6927 - val_acc: 0.5011\n",
      "Epoch 181/200\n",
      "2000/2000 [==============================] - 489s 244ms/step - loss: 0.6932 - acc: 0.5005 - val_loss: 0.6933 - val_acc: 0.5029\n",
      "Epoch 182/200\n",
      "2000/2000 [==============================] - 489s 244ms/step - loss: 0.6932 - acc: 0.5001 - val_loss: 0.6932 - val_acc: 0.4983\n",
      "Epoch 183/200\n",
      "2000/2000 [==============================] - 488s 244ms/step - loss: 0.6932 - acc: 0.5010 - val_loss: 0.6901 - val_acc: 0.5000\n",
      "Epoch 184/200\n",
      "2000/2000 [==============================] - 489s 244ms/step - loss: 0.6932 - acc: 0.5008 - val_loss: 0.6950 - val_acc: 0.4897\n",
      "Epoch 185/200\n",
      "2000/2000 [==============================] - 488s 244ms/step - loss: 0.6931 - acc: 0.5037 - val_loss: 0.6921 - val_acc: 0.4994\n",
      "Epoch 186/200\n",
      "2000/2000 [==============================] - 489s 244ms/step - loss: 0.6932 - acc: 0.5017 - val_loss: 0.6930 - val_acc: 0.5046\n",
      "Epoch 187/200\n",
      "2000/2000 [==============================] - 493s 246ms/step - loss: 0.6932 - acc: 0.5019 - val_loss: 0.6919 - val_acc: 0.4983\n",
      "Epoch 188/200\n",
      "2000/2000 [==============================] - 507s 253ms/step - loss: 0.6932 - acc: 0.4998 - val_loss: 0.6932 - val_acc: 0.5080\n",
      "Epoch 189/200\n",
      "2000/2000 [==============================] - 506s 253ms/step - loss: 0.6932 - acc: 0.4978 - val_loss: 0.6935 - val_acc: 0.4920\n",
      "Epoch 190/200\n",
      "2000/2000 [==============================] - 506s 253ms/step - loss: 0.6932 - acc: 0.4969 - val_loss: 0.6926 - val_acc: 0.5223\n",
      "Epoch 191/200\n",
      "2000/2000 [==============================] - 506s 253ms/step - loss: 0.6932 - acc: 0.4975 - val_loss: 0.6934 - val_acc: 0.5166\n",
      "Epoch 192/200\n",
      "2000/2000 [==============================] - 506s 253ms/step - loss: 0.6932 - acc: 0.5034 - val_loss: 0.6937 - val_acc: 0.4789\n",
      "Epoch 193/200\n",
      "2000/2000 [==============================] - 508s 254ms/step - loss: 0.6932 - acc: 0.5038 - val_loss: 0.6920 - val_acc: 0.5103\n",
      "Epoch 194/200\n",
      "2000/2000 [==============================] - 506s 253ms/step - loss: 0.6932 - acc: 0.5022 - val_loss: 0.6912 - val_acc: 0.4937\n",
      "Epoch 195/200\n",
      "2000/2000 [==============================] - 507s 253ms/step - loss: 0.6932 - acc: 0.5002 - val_loss: 0.6944 - val_acc: 0.5167\n",
      "Epoch 196/200\n",
      "2000/2000 [==============================] - 507s 254ms/step - loss: 0.6932 - acc: 0.5018 - val_loss: 0.6935 - val_acc: 0.5029\n",
      "Epoch 197/200\n",
      "2000/2000 [==============================] - 507s 253ms/step - loss: 0.6932 - acc: 0.5002 - val_loss: 0.6924 - val_acc: 0.4823\n",
      "Epoch 198/200\n",
      "2000/2000 [==============================] - 507s 253ms/step - loss: 0.6932 - acc: 0.5016 - val_loss: 0.6912 - val_acc: 0.4897\n",
      "Epoch 199/200\n",
      "2000/2000 [==============================] - 507s 253ms/step - loss: 0.6932 - acc: 0.4981 - val_loss: 0.6926 - val_acc: 0.5040\n",
      "Epoch 200/200\n",
      "2000/2000 [==============================] - 507s 253ms/step - loss: 0.6932 - acc: 0.4982 - val_loss: 0.6921 - val_acc: 0.5029\n"
     ]
    }
   ],
   "source": [
    "history = model.fit_generator(\n",
    "        train_generator,\n",
    "        steps_per_epoch=2000, #每个step表示1个batch_size的数据大小\n",
    "        epochs=200,\n",
    "        validation_data=validation_generator,\n",
    "        validation_steps=50)"
   ]
  },
  {
   "cell_type": "code",
   "execution_count": 25,
   "metadata": {},
   "outputs": [
    {
     "data": {
      "image/png": "[encoded data removed]",
      "text/plain": [
       "<Figure size 432x288 with 1 Axes>"
      ]
     },
     "metadata": {
      "needs_background": "light"
     },
     "output_type": "display_data"
    }
   ],
   "source": [
    "import matplotlib.pyplot as plt\n",
    "os.environ[\"KMP_DUPLICATE_LIB_OK\"]=\"TRUE\"\n",
    "\n",
    "acc = history.history['acc']\n",
    "val_acc =  history.history['val_acc']\n",
    "loss = history.history['loss']\n",
    "val_loss = history.history['val_loss']\n",
    "\n",
    "epochs = range(1, len(acc) + 1)\n",
    "\n",
    "plt.plot(epochs, acc, 'bo', label='Training acc')\n",
    "plt.plot(epochs, val_acc, 'b', label='Validation acc')\n",
    "plt.title('Training and validation accuracy')\n",
    "plt.legend()\n",
    "\n",
    "plt.show()"
   ]
  },
  {
   "cell_type": "code",
   "execution_count": 26,
   "metadata": {},
   "outputs": [
    {
     "data": {
      "image/png": "[encoded data removed]",
      "text/plain": [
       "<Figure size 432x288 with 1 Axes>"
      ]
     },
     "metadata": {
      "needs_background": "light"
     },
     "output_type": "display_data"
    }
   ],
   "source": [
    "plt.plot(epochs, loss, 'bo', label='Training loss')\n",
    "plt.plot(epochs, val_loss, 'b', label='Validation loss')\n",
    "plt.title('Training and validation loss')\n",
    "plt.legend()\n",
    "\n",
    "plt.show()"
   ]
  },
  {
   "cell_type": "code",
   "execution_count": null,
   "metadata": {},
   "outputs": [],
   "source": []
  }
 ],
 "metadata": {
  "kernelspec": {
   "display_name": "Python 3",
   "language": "python",
   "name": "python3"
  },
  "language_info": {
   "codemirror_mode": {
    "name": "ipython",
    "version": 3
   },
   "file_extension": ".py",
   "mimetype": "text/x-python",
   "name": "python",
   "nbconvert_exporter": "python",
   "pygments_lexer": "ipython3",
   "version": "3.5.2"
  }
 },
 "nbformat": 4,
 "nbformat_minor": 4
}
