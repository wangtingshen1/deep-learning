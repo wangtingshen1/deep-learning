{
 "cells": [
  {
   "cell_type": "code",
   "execution_count": 1,
   "metadata": {},
   "outputs": [],
   "source": [
    "import os,shutil\n",
    "original_dataset_dir_female = '/home/wangtingshen/tingshen-code/female/'\n",
    "original_dataset_dir_male = '/home/wangtingshen/tingshen-code/male/'"
   ]
  },
  {
   "cell_type": "code",
   "execution_count": 3,
   "metadata": {},
   "outputs": [],
   "source": [
    "#保存较小的数据集\n",
    "base_dir = '/home/wangtingshen/tingshen-code/real-dataset'\n",
    "os.mkdir(base_dir)"
   ]
  },
  {
   "cell_type": "code",
   "execution_count": 4,
   "metadata": {},
   "outputs": [],
   "source": [
    "#拼接子路径，划分训练、验证、测试集\n",
    "train_dir = os.path.join(base_dir,'train')\n",
    "os.mkdir(train_dir)\n",
    "validation_dir = os.path.join(base_dir,'validation')\n",
    "os.mkdir(validation_dir)\n",
    "test_dir = os.path.join(base_dir,'test')\n",
    "os.mkdir(test_dir)"
   ]
  },
  {
   "cell_type": "code",
   "execution_count": 5,
   "metadata": {},
   "outputs": [],
   "source": [
    "#训练女性图像目录\n",
    "train_female_dir = os.path.join(train_dir,'female')\n",
    "os.mkdir(train_female_dir)"
   ]
  },
  {
   "cell_type": "code",
   "execution_count": 6,
   "metadata": {},
   "outputs": [],
   "source": [
    "#训练男性图像目录\n",
    "train_male_dir = os.path.join(train_dir,'male')\n",
    "os.mkdir(train_male_dir)"
   ]
  },
  {
   "cell_type": "code",
   "execution_count": 7,
   "metadata": {},
   "outputs": [],
   "source": [
    "#验证女性图像目录\n",
    "validation_female_dir = os.path.join(validation_dir,'female')\n",
    "os.mkdir(validation_female_dir)"
   ]
  },
  {
   "cell_type": "code",
   "execution_count": 8,
   "metadata": {},
   "outputs": [],
   "source": [
    "#验证男性图像目录\n",
    "validation_male_dir = os.path.join(validation_dir,'male')\n",
    "os.mkdir(validation_male_dir)"
   ]
  },
  {
   "cell_type": "code",
   "execution_count": 9,
   "metadata": {},
   "outputs": [],
   "source": [
    "#测试女性图像目录\n",
    "test_female_dir = os.path.join(test_dir,'female')\n",
    "os.mkdir(test_female_dir)"
   ]
  },
  {
   "cell_type": "code",
   "execution_count": 10,
   "metadata": {},
   "outputs": [],
   "source": [
    "#测试男性图像目录\n",
    "test_male_dir = os.path.join(test_dir,'male')\n",
    "os.mkdir(test_male_dir)"
   ]
  },
  {
   "cell_type": "code",
   "execution_count": 11,
   "metadata": {},
   "outputs": [],
   "source": [
    "#将前70000张女性复制到train_female_dir\n",
    "fnames = ['female.{}.jpg'.format(i+1) for i in range(70000)]\n",
    "for fname in fnames:\n",
    "    src = os.path.join(original_dataset_dir_female, fname)\n",
    "    dst = os.path.join(train_female_dir, fname)\n",
    "    shutil.copyfile(src, dst)"
   ]
  },
  {
   "cell_type": "code",
   "execution_count": 12,
   "metadata": {},
   "outputs": [],
   "source": [
    "#将前5000张女性复制到validation_female_dir\n",
    "fnames = ['female.{}.jpg'.format(i+1) for i in range(70000,75000)]\n",
    "for fname in fnames:\n",
    "    src = os.path.join(original_dataset_dir_female, fname)\n",
    "    dst = os.path.join(validation_female_dir, fname)\n",
    "    shutil.copyfile(src, dst)"
   ]
  },
  {
   "cell_type": "code",
   "execution_count": 13,
   "metadata": {},
   "outputs": [],
   "source": [
    "#将前5000张女性复制到test_female_dir\n",
    "fnames = ['female.{}.jpg'.format(i+1) for i in range(75000,80000)]\n",
    "for fname in fnames:\n",
    "    src = os.path.join(original_dataset_dir_female, fname)\n",
    "    dst = os.path.join(test_female_dir, fname)\n",
    "    shutil.copyfile(src, dst)"
   ]
  },
  {
   "cell_type": "code",
   "execution_count": 14,
   "metadata": {},
   "outputs": [],
   "source": [
    "#将前70000张男性复制到train_male_dir\n",
    "fnames = ['male.{}.jpg'.format(i+1) for i in range(70000)]\n",
    "for fname in fnames:\n",
    "    src = os.path.join(original_dataset_dir_male, fname)\n",
    "    dst = os.path.join(train_male_dir, fname)\n",
    "    shutil.copyfile(src, dst)"
   ]
  },
  {
   "cell_type": "code",
   "execution_count": 15,
   "metadata": {},
   "outputs": [],
   "source": [
    "#将前5000张男性复制到validation_male_dir\n",
    "fnames = ['male.{}.jpg'.format(i+1) for i in range(70000,75000)]\n",
    "for fname in fnames:\n",
    "    src = os.path.join(original_dataset_dir_male, fname)\n",
    "    dst = os.path.join(validation_male_dir, fname)\n",
    "    shutil.copyfile(src, dst)"
   ]
  },
  {
   "cell_type": "code",
   "execution_count": 16,
   "metadata": {},
   "outputs": [],
   "source": [
    "#将前5000张男性复制到test_male_dir\n",
    "fnames = ['male.{}.jpg'.format(i+1) for i in range(75000,80000)]\n",
    "for fname in fnames:\n",
    "    src = os.path.join(original_dataset_dir_male, fname)\n",
    "    dst = os.path.join(test_male_dir, fname)\n",
    "    shutil.copyfile(src, dst)"
   ]
  },
  {
   "cell_type": "code",
   "execution_count": 18,
   "metadata": {},
   "outputs": [
    {
     "name": "stdout",
     "output_type": "stream",
     "text": [
      "total training female images: 70000\n",
      "total training male images: 70000\n",
      "total validation female images: 5000\n",
      "total validation male images: 5000\n",
      "total test female images: 5000\n",
      "total test male images: 5000\n"
     ]
    }
   ],
   "source": [
    "print('total training female images:',len(os.listdir(train_female_dir)))\n",
    "print('total training male images:',len(os.listdir(train_male_dir)))\n",
    "print('total validation female images:',len(os.listdir(validation_female_dir)))\n",
    "print('total validation male images:',len(os.listdir(validation_male_dir)))\n",
    "print('total test female images:',len(os.listdir(test_female_dir)))\n",
    "print('total test male images:',len(os.listdir(test_male_dir)))"
   ]
  },
  {
   "cell_type": "code",
   "execution_count": 19,
   "metadata": {},
   "outputs": [
    {
     "name": "stderr",
     "output_type": "stream",
     "text": [
      "Using TensorFlow backend.\n"
     ]
    }
   ],
   "source": [
    "from keras import models\n",
    "from keras import layers"
   ]
  },
  {
   "cell_type": "code",
   "execution_count": 20,
   "metadata": {},
   "outputs": [
    {
     "name": "stdout",
     "output_type": "stream",
     "text": [
      "Found 140000 images belonging to 2 classes.\n",
      "Found 10000 images belonging to 2 classes.\n"
     ]
    }
   ],
   "source": [
    "from keras.preprocessing.image import ImageDataGenerator\n",
    "\n",
    "train_datagen = ImageDataGenerator(rescale=1./255)\n",
    "test_datagen = ImageDataGenerator(rescale=1./255)\n",
    "\n",
    "#默认打乱数据\n",
    "train_generator = train_datagen.flow_from_directory(\n",
    "        train_dir,\n",
    "        target_size=(224,224),\n",
    "        batch_size=35,\n",
    "        class_mode='binary')\n",
    "\n",
    "validation_generator = test_datagen.flow_from_directory(\n",
    "        validation_dir,\n",
    "        target_size=(224,224),\n",
    "        batch_size=35,\n",
    "        class_mode='binary')"
   ]
  },
  {
   "cell_type": "code",
   "execution_count": 21,
   "metadata": {},
   "outputs": [
    {
     "name": "stdout",
     "output_type": "stream",
     "text": [
      "data batch shape: (35, 224, 224, 3)\n",
      "labels batch shape: (35,)\n"
     ]
    }
   ],
   "source": [
    "for data_batch, labels_batch in train_generator:\n",
    "    print('data batch shape:', data_batch.shape)\n",
    "    print('labels batch shape:', labels_batch.shape)\n",
    "    break"
   ]
  },
  {
   "cell_type": "code",
   "execution_count": 22,
   "metadata": {},
   "outputs": [
    {
     "name": "stdout",
     "output_type": "stream",
     "text": [
      "WARNING:tensorflow:From /usr/local/lib/python3.5/dist-packages/keras/backend/tensorflow_backend.py:4070: The name tf.nn.max_pool is deprecated. Please use tf.nn.max_pool2d instead.\n",
      "\n"
     ]
    }
   ],
   "source": [
    "import keras\n",
    "from keras.models import Sequential\n",
    "from keras.layers import Dense,Activation,Dropout,Flatten\n",
    "from keras.layers import Conv2D,MaxPool2D\n",
    "from keras.utils import plot_model\n",
    "\n",
    "# 定义输入\n",
    "input_shape = (224,224,3) # RGB影像224x224（height,width,channel)\n",
    "\n",
    "model = models.Sequential()\n",
    "# 第1个卷积区块(block1)\n",
    "model.add(Conv2D(64,(3,3),padding='same',activation='relu',input_shape=input_shape,name='block1_conv1'))\n",
    "model.add(Conv2D(64,(3,3),padding='same',activation='relu',name='block1_conv2'))\n",
    "model.add(MaxPool2D((2,2),strides=(2,2),name='block1_pool'))\n",
    "\n",
    "# 第2个卷积区块(block2)\n",
    "model.add(Conv2D(128,(3,3),padding='same',activation='relu',name='block2_conv1'))\n",
    "model.add(Conv2D(128,(3,3),padding='same',activation='relu',name='block2_conv2'))\n",
    "model.add(MaxPool2D((2,2),strides=(2,2),name='block2_pool'))\n",
    "\n",
    "# 第3个区块(block3)\n",
    "model.add(Conv2D(256,(3,3),padding='same',activation='relu',name='block3_conv1'))\n",
    "model.add(Conv2D(256,(3,3),padding='same',activation='relu',name='block3_conv2'))\n",
    "model.add(Conv2D(256,(3,3),padding='same',activation='relu',name='block3_conv3'))\n",
    "model.add(MaxPool2D((2,2),strides=(2,2),name='block3_pool'))\n",
    "\n",
    "# 第4个区块(block4)\n",
    "model.add(Conv2D(512,(3,3),padding='same',activation='relu',name='block4_conv1'))\n",
    "model.add(Conv2D(512,(3,3),padding='same',activation='relu',name='block4_conv2'))\n",
    "model.add(Conv2D(512,(3,3),padding='same',activation='relu',name='block4_conv3'))\n",
    "model.add(MaxPool2D((2,2),strides=(2,2),name='block4_pool'))\n",
    "\n",
    "# 第5个区块(block5)\n",
    "model.add(Conv2D(512,(3,3),padding='same',activation='relu',name='block5_conv1'))\n",
    "model.add(Conv2D(512,(3,3),padding='same',activation='relu',name='block5_conv2'))\n",
    "model.add(Conv2D(512,(3,3),padding='same',activation='relu',name='block5_conv3'))\n",
    "model.add(MaxPool2D((2,2),strides=(2,2),name='block5_pool'))\n",
    "\n",
    "# 前馈全连接区块\n",
    "model.add(Flatten(name='flatten'))\n",
    "model.add(Dense(4096,activation='relu',name='fc1'))\n",
    "model.add(Dense(512,activation='relu',name='fc2'))\n",
    "model.add(Dense(1,activation='sigmoid',name='predictions'))"
   ]
  },
  {
   "cell_type": "code",
   "execution_count": 23,
   "metadata": {},
   "outputs": [
    {
     "name": "stdout",
     "output_type": "stream",
     "text": [
      "Model: \"sequential_1\"\n",
      "_________________________________________________________________\n",
      "Layer (type)                 Output Shape              Param #   \n",
      "=================================================================\n",
      "block1_conv1 (Conv2D)        (None, 224, 224, 64)      1792      \n",
      "_________________________________________________________________\n",
      "block1_conv2 (Conv2D)        (None, 224, 224, 64)      36928     \n",
      "_________________________________________________________________\n",
      "block1_pool (MaxPooling2D)   (None, 112, 112, 64)      0         \n",
      "_________________________________________________________________\n",
      "block2_conv1 (Conv2D)        (None, 112, 112, 128)     73856     \n",
      "_________________________________________________________________\n",
      "block2_conv2 (Conv2D)        (None, 112, 112, 128)     147584    \n",
      "_________________________________________________________________\n",
      "block2_pool (MaxPooling2D)   (None, 56, 56, 128)       0         \n",
      "_________________________________________________________________\n",
      "block3_conv1 (Conv2D)        (None, 56, 56, 256)       295168    \n",
      "_________________________________________________________________\n",
      "block3_conv2 (Conv2D)        (None, 56, 56, 256)       590080    \n",
      "_________________________________________________________________\n",
      "block3_conv3 (Conv2D)        (None, 56, 56, 256)       590080    \n",
      "_________________________________________________________________\n",
      "block3_pool (MaxPooling2D)   (None, 28, 28, 256)       0         \n",
      "_________________________________________________________________\n",
      "block4_conv1 (Conv2D)        (None, 28, 28, 512)       1180160   \n",
      "_________________________________________________________________\n",
      "block4_conv2 (Conv2D)        (None, 28, 28, 512)       2359808   \n",
      "_________________________________________________________________\n",
      "block4_conv3 (Conv2D)        (None, 28, 28, 512)       2359808   \n",
      "_________________________________________________________________\n",
      "block4_pool (MaxPooling2D)   (None, 14, 14, 512)       0         \n",
      "_________________________________________________________________\n",
      "block5_conv1 (Conv2D)        (None, 14, 14, 512)       2359808   \n",
      "_________________________________________________________________\n",
      "block5_conv2 (Conv2D)        (None, 14, 14, 512)       2359808   \n",
      "_________________________________________________________________\n",
      "block5_conv3 (Conv2D)        (None, 14, 14, 512)       2359808   \n",
      "_________________________________________________________________\n",
      "block5_pool (MaxPooling2D)   (None, 7, 7, 512)         0         \n",
      "_________________________________________________________________\n",
      "flatten (Flatten)            (None, 25088)             0         \n",
      "_________________________________________________________________\n",
      "fc1 (Dense)                  (None, 4096)              102764544 \n",
      "_________________________________________________________________\n",
      "fc2 (Dense)                  (None, 512)               2097664   \n",
      "_________________________________________________________________\n",
      "predictions (Dense)          (None, 1)                 513       \n",
      "=================================================================\n",
      "Total params: 119,577,409\n",
      "Trainable params: 119,577,409\n",
      "Non-trainable params: 0\n",
      "_________________________________________________________________\n"
     ]
    }
   ],
   "source": [
    "model.summary()"
   ]
  },
  {
   "cell_type": "code",
   "execution_count": 24,
   "metadata": {},
   "outputs": [
    {
     "name": "stdout",
     "output_type": "stream",
     "text": [
      "WARNING:tensorflow:From /usr/local/lib/python3.5/dist-packages/tensorflow/python/ops/nn_impl.py:180: add_dispatch_support.<locals>.wrapper (from tensorflow.python.ops.array_ops) is deprecated and will be removed in a future version.\n",
      "Instructions for updating:\n",
      "Use tf.where in 2.0, which has the same broadcast rule as np.where\n"
     ]
    }
   ],
   "source": [
    "from keras import optimizers\n",
    "\n",
    "model.compile(loss='binary_crossentropy', optimizer=optimizers.RMSprop(lr=1e-4), metrics=['acc'])"
   ]
  },
  {
   "cell_type": "code",
   "execution_count": 25,
   "metadata": {},
   "outputs": [
    {
     "name": "stdout",
     "output_type": "stream",
     "text": [
      "WARNING:tensorflow:From /usr/local/lib/python3.5/dist-packages/keras/backend/tensorflow_backend.py:422: The name tf.global_variables is deprecated. Please use tf.compat.v1.global_variables instead.\n",
      "\n",
      "Epoch 1/30\n",
      "2000/2000 [==============================] - 500s 250ms/step - loss: 0.2476 - acc: 0.8893 - val_loss: 0.1467 - val_acc: 0.8989\n",
      "Epoch 2/30\n",
      "2000/2000 [==============================] - 499s 250ms/step - loss: 0.1156 - acc: 0.9583 - val_loss: 0.1096 - val_acc: 0.9640\n",
      "Epoch 3/30\n",
      "2000/2000 [==============================] - 500s 250ms/step - loss: 0.0981 - acc: 0.9668 - val_loss: 0.0312 - val_acc: 0.9686\n",
      "Epoch 4/30\n",
      "2000/2000 [==============================] - 501s 251ms/step - loss: 0.0913 - acc: 0.9698 - val_loss: 0.1021 - val_acc: 0.9554\n",
      "Epoch 5/30\n",
      "2000/2000 [==============================] - 503s 252ms/step - loss: 0.0885 - acc: 0.9722 - val_loss: 0.0959 - val_acc: 0.9777\n",
      "Epoch 6/30\n",
      "2000/2000 [==============================] - 505s 253ms/step - loss: 0.0871 - acc: 0.9728 - val_loss: 0.0350 - val_acc: 0.9678\n",
      "Epoch 7/30\n",
      "2000/2000 [==============================] - 506s 253ms/step - loss: 0.0804 - acc: 0.9740 - val_loss: 0.0704 - val_acc: 0.9634\n",
      "Epoch 8/30\n",
      "2000/2000 [==============================] - 509s 255ms/step - loss: 0.0916 - acc: 0.9757 - val_loss: 0.0350 - val_acc: 0.9686\n",
      "Epoch 9/30\n",
      "2000/2000 [==============================] - 515s 257ms/step - loss: 0.0916 - acc: 0.9759 - val_loss: 0.0626 - val_acc: 0.9720\n",
      "Epoch 10/30\n",
      "2000/2000 [==============================] - 518s 259ms/step - loss: 0.0818 - acc: 0.9750 - val_loss: 0.0820 - val_acc: 0.9743\n",
      "Epoch 11/30\n",
      "2000/2000 [==============================] - 521s 260ms/step - loss: 0.0946 - acc: 0.9751 - val_loss: 0.2029 - val_acc: 0.9337\n",
      "Epoch 12/30\n",
      "2000/2000 [==============================] - 521s 260ms/step - loss: 0.1147 - acc: 0.9750 - val_loss: 0.1116 - val_acc: 0.9787\n",
      "Epoch 13/30\n",
      "2000/2000 [==============================] - 524s 262ms/step - loss: 14.2332 - acc: 0.9761 - val_loss: 0.0473 - val_acc: 0.9743\n",
      "Epoch 14/30\n",
      "2000/2000 [==============================] - 531s 266ms/step - loss: 0.0950 - acc: 0.9762 - val_loss: 0.1566 - val_acc: 0.9760\n",
      "Epoch 15/30\n",
      "2000/2000 [==============================] - 536s 268ms/step - loss: 1.4760 - acc: 0.9746 - val_loss: 0.0051 - val_acc: 0.9731\n",
      "Epoch 16/30\n",
      "2000/2000 [==============================] - 539s 269ms/step - loss: 0.0867 - acc: 0.9748 - val_loss: 0.0506 - val_acc: 0.9720\n",
      "Epoch 17/30\n",
      "2000/2000 [==============================] - 542s 271ms/step - loss: 0.0820 - acc: 0.9778 - val_loss: 0.1404 - val_acc: 0.9680\n",
      "Epoch 18/30\n",
      "2000/2000 [==============================] - 544s 272ms/step - loss: 0.2976 - acc: 0.9754 - val_loss: 0.0567 - val_acc: 0.9707\n",
      "Epoch 19/30\n",
      "2000/2000 [==============================] - 543s 272ms/step - loss: 0.1282 - acc: 0.9762 - val_loss: 0.1000 - val_acc: 0.9754\n",
      "Epoch 20/30\n",
      "2000/2000 [==============================] - 543s 271ms/step - loss: 0.3313 - acc: 0.9752 - val_loss: 0.0025 - val_acc: 0.9771\n",
      "Epoch 21/30\n",
      "2000/2000 [==============================] - 543s 272ms/step - loss: 0.7531 - acc: 0.9723 - val_loss: 8.7352e-04 - val_acc: 0.9697\n",
      "Epoch 22/30\n",
      "2000/2000 [==============================] - 543s 272ms/step - loss: 0.1778 - acc: 0.9740 - val_loss: 0.0217 - val_acc: 0.9749\n",
      "Epoch 23/30\n",
      "2000/2000 [==============================] - 543s 272ms/step - loss: 0.0951 - acc: 0.9753 - val_loss: 0.0828 - val_acc: 0.9713\n",
      "Epoch 24/30\n",
      "2000/2000 [==============================] - 544s 272ms/step - loss: 0.3683 - acc: 0.9745 - val_loss: 0.0678 - val_acc: 0.9703\n",
      "Epoch 25/30\n",
      "2000/2000 [==============================] - 544s 272ms/step - loss: 0.1106 - acc: 0.9766 - val_loss: 0.0291 - val_acc: 0.9789\n",
      "Epoch 26/30\n",
      "2000/2000 [==============================] - 544s 272ms/step - loss: 0.1859 - acc: 0.9745 - val_loss: 0.0204 - val_acc: 0.9726\n",
      "Epoch 27/30\n",
      "2000/2000 [==============================] - 544s 272ms/step - loss: 0.1659 - acc: 0.9766 - val_loss: 0.0242 - val_acc: 0.9737\n",
      "Epoch 28/30\n",
      "2000/2000 [==============================] - 544s 272ms/step - loss: 0.0892 - acc: 0.9766 - val_loss: 0.0095 - val_acc: 0.9754\n",
      "Epoch 29/30\n",
      "2000/2000 [==============================] - 544s 272ms/step - loss: 6.6592 - acc: 0.9763 - val_loss: 0.0087 - val_acc: 0.9747\n",
      "Epoch 30/30\n",
      "2000/2000 [==============================] - 544s 272ms/step - loss: 0.2426 - acc: 0.9760 - val_loss: 0.3143 - val_acc: 0.9680\n"
     ]
    }
   ],
   "source": [
    "history = model.fit_generator(\n",
    "        train_generator,\n",
    "        steps_per_epoch=2000, #每个step表示1个batch_size的数据大小\n",
    "        epochs=200,\n",
    "        validation_data=validation_generator,\n",
    "        validation_steps=50)"
   ]
  },
  {
   "cell_type": "code",
   "execution_count": 27,
   "metadata": {},
   "outputs": [
    {
     "data": {
      "image/png": "[encoded data removed]",
      "text/plain": [
       "<Figure size 432x288 with 1 Axes>"
      ]
     },
     "metadata": {
      "needs_background": "light"
     },
     "output_type": "display_data"
    }
   ],
   "source": [
    "import matplotlib.pyplot as plt\n",
    "os.environ[\"KMP_DUPLICATE_LIB_OK\"]=\"TRUE\"\n",
    "\n",
    "acc = history.history['acc']\n",
    "val_acc =  history.history['val_acc']\n",
    "loss = history.history['loss']\n",
    "val_loss = history.history['val_loss']\n",
    "\n",
    "epochs = range(1, len(acc) + 1)\n",
    "\n",
    "plt.plot(epochs, acc, 'bo', label='Training acc')\n",
    "plt.plot(epochs, val_acc, 'b', label='Validation acc')\n",
    "plt.title('Training and validation accuracy')\n",
    "plt.legend()\n",
    "\n",
    "plt.show()"
   ]
  },
  {
   "cell_type": "code",
   "execution_count": 28,
   "metadata": {},
   "outputs": [
    {
     "data": {
      "image/png": "[encoded data removed]",
      "text/plain": [
       "<Figure size 432x288 with 1 Axes>"
      ]
     },
     "metadata": {
      "needs_background": "light"
     },
     "output_type": "display_data"
    }
   ],
   "source": [
    "plt.plot(epochs, loss, 'bo', label='Training loss')\n",
    "plt.plot(epochs, val_loss, 'b', label='Validation loss')\n",
    "plt.title('Training and validation loss')\n",
    "plt.legend()\n",
    "\n",
    "plt.show()"
   ]
  },
  {
   "cell_type": "code",
   "execution_count": null,
   "metadata": {},
   "outputs": [],
   "source": []
  }
 ],
 "metadata": {
  "kernelspec": {
   "display_name": "Python 3",
   "language": "python",
   "name": "python3"
  },
  "language_info": {
   "codemirror_mode": {
    "name": "ipython",
    "version": 3
   },
   "file_extension": ".py",
   "mimetype": "text/x-python",
   "name": "python",
   "nbconvert_exporter": "python",
   "pygments_lexer": "ipython3",
   "version": "3.5.2"
  }
 },
 "nbformat": 4,
 "nbformat_minor": 4
}
