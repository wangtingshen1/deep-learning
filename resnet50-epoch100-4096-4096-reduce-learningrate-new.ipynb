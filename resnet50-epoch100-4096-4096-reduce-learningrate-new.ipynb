{
 "cells": [
  {
   "cell_type": "code",
   "execution_count": 1,
   "metadata": {},
   "outputs": [
    {
     "name": "stderr",
     "output_type": "stream",
     "text": [
      "Using TensorFlow backend.\n"
     ]
    }
   ],
   "source": [
    "import os,shutil\n",
    "\n",
    "\"\"\"GPU设置为按需增长\"\"\"\n",
    "import tensorflow as tf\n",
    "import keras.backend.tensorflow_backend as KTF\n",
    "# 指定第一块GPU可用\n",
    "os.environ[\"CUDA_VISIBLE_DEVICES\"] = \"0,1\"\n",
    "config = tf.ConfigProto()\n",
    "config.gpu_options.allow_growth=True   #不全部占满显存, 按需分配\n",
    "# config.gpu_options.per_process_gpu_memory_fraction = 0.3\n",
    "sess = tf.Session(config=config)\n",
    "KTF.set_session(sess)\n",
    "\n",
    "original_dataset_dir_female = '/home/wangtingshen/tingshen-code/female/'\n",
    "original_dataset_dir_male = '/home/wangtingshen/tingshen-code/male/'"
   ]
  },
  {
   "cell_type": "code",
   "execution_count": 2,
   "metadata": {},
   "outputs": [
    {
     "name": "stdout",
     "output_type": "stream",
     "text": [
      "total training female images: 70000\n",
      "total training male images: 70000\n",
      "total validation female images: 5000\n",
      "total validation male images: 5000\n",
      "total test female images: 5000\n",
      "total test male images: 5000\n"
     ]
    }
   ],
   "source": [
    "#保存较小的数据集\n",
    "base_dir = '/home/wangtingshen/tingshen-code/real-dataset'\n",
    "\n",
    "#拼接子路径，划分训练、验证、测试集\n",
    "train_dir = os.path.join(base_dir,'train')\n",
    "validation_dir = os.path.join(base_dir,'validation')\n",
    "test_dir = os.path.join(base_dir,'test')\n",
    "\n",
    "#训练女性图像目录\n",
    "train_female_dir = os.path.join(train_dir,'female')\n",
    "#训练男性图像目录\n",
    "train_male_dir = os.path.join(train_dir,'male')\n",
    "#验证女性图像目录\n",
    "validation_female_dir = os.path.join(validation_dir,'female')\n",
    "#验证男性图像目录\n",
    "validation_male_dir = os.path.join(validation_dir,'male')\n",
    "#测试女性图像目录\n",
    "test_female_dir = os.path.join(test_dir,'female')\n",
    "#测试男性图像目录\n",
    "test_male_dir = os.path.join(test_dir,'male')\n",
    "\n",
    "print('total training female images:',len(os.listdir(train_female_dir)))\n",
    "print('total training male images:',len(os.listdir(train_male_dir)))\n",
    "print('total validation female images:',len(os.listdir(validation_female_dir)))\n",
    "print('total validation male images:',len(os.listdir(validation_male_dir)))\n",
    "print('total test female images:',len(os.listdir(test_female_dir)))\n",
    "print('total test male images:',len(os.listdir(test_male_dir)))"
   ]
  },
  {
   "cell_type": "code",
   "execution_count": 3,
   "metadata": {},
   "outputs": [],
   "source": [
    "from keras import models\n",
    "from keras import layers"
   ]
  },
  {
   "cell_type": "code",
   "execution_count": 4,
   "metadata": {},
   "outputs": [
    {
     "name": "stdout",
     "output_type": "stream",
     "text": [
      "Found 140000 images belonging to 2 classes.\n",
      "Found 10000 images belonging to 2 classes.\n"
     ]
    }
   ],
   "source": [
    "from keras.preprocessing.image import ImageDataGenerator\n",
    "\n",
    "train_datagen = ImageDataGenerator(rescale=1./255)\n",
    "test_datagen = ImageDataGenerator(rescale=1./255)\n",
    "\n",
    "#默认打乱数据\n",
    "train_generator = train_datagen.flow_from_directory(\n",
    "        train_dir,\n",
    "        target_size=(224,224),\n",
    "        batch_size=35,\n",
    "        class_mode='binary')\n",
    "\n",
    "validation_generator = test_datagen.flow_from_directory(\n",
    "        validation_dir,\n",
    "        target_size=(224,224),\n",
    "        batch_size=10,\n",
    "        class_mode='binary')"
   ]
  },
  {
   "cell_type": "code",
   "execution_count": 5,
   "metadata": {},
   "outputs": [
    {
     "name": "stdout",
     "output_type": "stream",
     "text": [
      "data batch shape: (35, 224, 224, 3)\n",
      "labels batch shape: (35,)\n"
     ]
    }
   ],
   "source": [
    "for data_batch, labels_batch in train_generator:\n",
    "    print('data batch shape:', data_batch.shape)\n",
    "    print('labels batch shape:', labels_batch.shape)\n",
    "    break"
   ]
  },
  {
   "cell_type": "code",
   "execution_count": 6,
   "metadata": {},
   "outputs": [
    {
     "name": "stdout",
     "output_type": "stream",
     "text": [
      "WARNING:tensorflow:From /usr/local/lib/python3.5/dist-packages/keras/backend/tensorflow_backend.py:4070: The name tf.nn.max_pool is deprecated. Please use tf.nn.max_pool2d instead.\n",
      "\n"
     ]
    }
   ],
   "source": [
    "import keras\n",
    "from keras.applications.resnet import ResNet50\n",
    "from keras.models import Sequential\n",
    "from keras.layers import Dense,Activation,Dropout,Flatten\n",
    "from keras.layers import Conv2D,MaxPool2D\n",
    "from keras.utils import plot_model\n",
    "\n",
    "# 定义输入\n",
    "input_shape = (224,224,3) # RGB影像224x224（height,width,channel)\n",
    "#引用模型\n",
    "conv_base = ResNet50(weights=None, include_top=False, pooling='avg',input_shape=input_shape)\n",
    "#conv_base.summary()"
   ]
  },
  {
   "cell_type": "code",
   "execution_count": 8,
   "metadata": {},
   "outputs": [
    {
     "name": "stdout",
     "output_type": "stream",
     "text": [
      "Model: \"sequential_2\"\n",
      "_________________________________________________________________\n",
      "Layer (type)                 Output Shape              Param #   \n",
      "=================================================================\n",
      "resnet50 (Model)             (None, 2048)              23587712  \n",
      "_________________________________________________________________\n",
      "predictions (Dense)          (None, 1)                 2049      \n",
      "=================================================================\n",
      "Total params: 23,589,761\n",
      "Trainable params: 23,536,641\n",
      "Non-trainable params: 53,120\n",
      "_________________________________________________________________\n"
     ]
    }
   ],
   "source": [
    "#定义模型\n",
    "model = models.Sequential()\n",
    "# 前馈全连接区块\n",
    "model.add(conv_base)\n",
    "model.add(Dense(1,activation='sigmoid',name='predictions'))\n",
    "model.summary()"
   ]
  },
  {
   "cell_type": "code",
   "execution_count": 9,
   "metadata": {},
   "outputs": [
    {
     "name": "stdout",
     "output_type": "stream",
     "text": [
      "WARNING:tensorflow:From /usr/local/lib/python3.5/dist-packages/tensorflow/python/ops/nn_impl.py:180: add_dispatch_support.<locals>.wrapper (from tensorflow.python.ops.array_ops) is deprecated and will be removed in a future version.\n",
      "Instructions for updating:\n",
      "Use tf.where in 2.0, which has the same broadcast rule as np.where\n"
     ]
    }
   ],
   "source": [
    "from keras import optimizers\n",
    "from keras.callbacks import LearningRateScheduler\n",
    "import math\n",
    "\n",
    "def step_decay(epoch):\n",
    "    initial_lr = 1e-4\n",
    "    drop = 0.1\n",
    "    epochs_drop = 15.0\n",
    "    lrate = initial_lr*math.pow(drop,math.floor((1+epoch)/epochs_drop))\n",
    "    return lrate\n",
    "\n",
    "learning_rate = LearningRateScheduler(step_decay)\n",
    "model.compile(loss='binary_crossentropy', optimizer=optimizers.RMSprop(lr=1e-4), metrics=['acc'])"
   ]
  },
  {
   "cell_type": "code",
   "execution_count": 10,
   "metadata": {},
   "outputs": [
    {
     "name": "stdout",
     "output_type": "stream",
     "text": [
      "WARNING:tensorflow:From /usr/local/lib/python3.5/dist-packages/keras/backend/tensorflow_backend.py:422: The name tf.global_variables is deprecated. Please use tf.compat.v1.global_variables instead.\n",
      "\n",
      "Epoch 1/100\n",
      "2000/2000 [==============================] - 406s 203ms/step - loss: 0.3086 - acc: 0.8625 - val_loss: 0.0095 - val_acc: 0.9360\n",
      "Epoch 2/100\n",
      "2000/2000 [==============================] - 400s 200ms/step - loss: 0.1301 - acc: 0.9487 - val_loss: 0.8380 - val_acc: 0.9340\n",
      "Epoch 3/100\n",
      "2000/2000 [==============================] - 404s 202ms/step - loss: 0.0949 - acc: 0.9639 - val_loss: 0.0691 - val_acc: 0.9534\n",
      "Epoch 4/100\n",
      "2000/2000 [==============================] - 405s 202ms/step - loss: 0.0832 - acc: 0.9690 - val_loss: 0.1749 - val_acc: 0.9306\n",
      "Epoch 5/100\n",
      "2000/2000 [==============================] - 409s 204ms/step - loss: 0.0666 - acc: 0.9755 - val_loss: 0.2418 - val_acc: 0.9578\n",
      "Epoch 6/100\n",
      "2000/2000 [==============================] - 412s 206ms/step - loss: 0.0654 - acc: 0.9762 - val_loss: 0.4179 - val_acc: 0.9638\n",
      "Epoch 7/100\n",
      "2000/2000 [==============================] - 411s 206ms/step - loss: 0.0509 - acc: 0.9810 - val_loss: 8.8195e-04 - val_acc: 0.9688\n",
      "Epoch 8/100\n",
      "2000/2000 [==============================] - 412s 206ms/step - loss: 0.0543 - acc: 0.9806 - val_loss: 0.1949 - val_acc: 0.9714\n",
      "Epoch 9/100\n",
      "2000/2000 [==============================] - 412s 206ms/step - loss: 0.0397 - acc: 0.9858 - val_loss: 0.0124 - val_acc: 0.9668\n",
      "Epoch 10/100\n",
      "2000/2000 [==============================] - 413s 206ms/step - loss: 0.0425 - acc: 0.9852 - val_loss: 0.0633 - val_acc: 0.9594\n",
      "Epoch 11/100\n",
      "2000/2000 [==============================] - 414s 207ms/step - loss: 0.0297 - acc: 0.9896 - val_loss: 0.4054 - val_acc: 0.9692\n",
      "Epoch 12/100\n",
      "2000/2000 [==============================] - 415s 208ms/step - loss: 0.0351 - acc: 0.9878 - val_loss: 0.0013 - val_acc: 0.9762\n",
      "Epoch 13/100\n",
      "2000/2000 [==============================] - 416s 208ms/step - loss: 0.0244 - acc: 0.9915 - val_loss: 0.0034 - val_acc: 0.9724\n",
      "Epoch 14/100\n",
      "2000/2000 [==============================] - 416s 208ms/step - loss: 0.0266 - acc: 0.9909 - val_loss: 0.0029 - val_acc: 0.9756\n",
      "Epoch 15/100\n",
      "2000/2000 [==============================] - 416s 208ms/step - loss: 0.0081 - acc: 0.9974 - val_loss: 1.9125e-06 - val_acc: 0.9782\n",
      "Epoch 16/100\n",
      "2000/2000 [==============================] - 416s 208ms/step - loss: 0.0061 - acc: 0.9983 - val_loss: 1.6844e-04 - val_acc: 0.9814\n",
      "Epoch 17/100\n",
      "2000/2000 [==============================] - 417s 208ms/step - loss: 0.0023 - acc: 0.9994 - val_loss: 0.0337 - val_acc: 0.9802\n",
      "Epoch 18/100\n",
      "2000/2000 [==============================] - 417s 208ms/step - loss: 0.0030 - acc: 0.9993 - val_loss: 7.0812e-07 - val_acc: 0.9812\n",
      "Epoch 19/100\n",
      "2000/2000 [==============================] - 416s 208ms/step - loss: 0.0011 - acc: 0.9998 - val_loss: 0.0052 - val_acc: 0.9806\n",
      "Epoch 20/100\n",
      "2000/2000 [==============================] - 417s 209ms/step - loss: 0.0014 - acc: 0.9997 - val_loss: 0.8611 - val_acc: 0.9808\n",
      "Epoch 21/100\n",
      "2000/2000 [==============================] - 417s 209ms/step - loss: 5.5867e-04 - acc: 0.9998 - val_loss: 2.9884e-08 - val_acc: 0.9824\n",
      "Epoch 22/100\n",
      "2000/2000 [==============================] - 417s 209ms/step - loss: 0.0012 - acc: 0.9998 - val_loss: 1.1530e-08 - val_acc: 0.9794\n",
      "Epoch 23/100\n",
      "2000/2000 [==============================] - 419s 209ms/step - loss: 2.7467e-04 - acc: 0.9999 - val_loss: 2.7821e-06 - val_acc: 0.9778\n",
      "Epoch 24/100\n",
      "2000/2000 [==============================] - 423s 211ms/step - loss: 6.2860e-04 - acc: 0.9999 - val_loss: 6.9987e-09 - val_acc: 0.9846\n",
      "Epoch 25/100\n",
      "2000/2000 [==============================] - 425s 212ms/step - loss: 1.9995e-04 - acc: 0.9999 - val_loss: 2.0432e-09 - val_acc: 0.9810\n",
      "Epoch 26/100\n",
      "2000/2000 [==============================] - 426s 213ms/step - loss: 2.6044e-04 - acc: 0.9999 - val_loss: 1.7125e-08 - val_acc: 0.9798\n",
      "Epoch 27/100\n",
      "2000/2000 [==============================] - 426s 213ms/step - loss: 1.4656e-04 - acc: 0.9999 - val_loss: 1.9568e-09 - val_acc: 0.9826\n",
      "Epoch 28/100\n",
      "2000/2000 [==============================] - 423s 211ms/step - loss: 1.2064e-04 - acc: 1.0000 - val_loss: 1.2678e-07 - val_acc: 0.9778\n",
      "Epoch 29/100\n",
      "2000/2000 [==============================] - 424s 212ms/step - loss: 1.0327e-05 - acc: 1.0000 - val_loss: 6.3924e-10 - val_acc: 0.9806\n",
      "Epoch 30/100\n",
      "2000/2000 [==============================] - 423s 212ms/step - loss: 1.5887e-04 - acc: 1.0000 - val_loss: 4.6009e-07 - val_acc: 0.9808\n",
      "Epoch 31/100\n",
      "2000/2000 [==============================] - 425s 212ms/step - loss: 9.4986e-05 - acc: 1.0000 - val_loss: 3.2391e-10 - val_acc: 0.9818\n",
      "Epoch 32/100\n",
      "2000/2000 [==============================] - 426s 213ms/step - loss: 4.7496e-07 - acc: 1.0000 - val_loss: 5.8061e-10 - val_acc: 0.9794\n",
      "Epoch 33/100\n",
      "2000/2000 [==============================] - 426s 213ms/step - loss: 4.4265e-06 - acc: 1.0000 - val_loss: 8.8969e-04 - val_acc: 0.9804\n",
      "Epoch 34/100\n",
      "2000/2000 [==============================] - 430s 215ms/step - loss: 8.1729e-05 - acc: 1.0000 - val_loss: 3.3175e-09 - val_acc: 0.9810\n",
      "Epoch 35/100\n",
      "2000/2000 [==============================] - 390s 195ms/step - loss: 3.2344e-05 - acc: 1.0000 - val_loss: 6.4209e-08 - val_acc: 0.9820\n",
      "Epoch 36/100\n",
      "2000/2000 [==============================] - 390s 195ms/step - loss: 6.4109e-05 - acc: 1.0000 - val_loss: 1.4547e-09 - val_acc: 0.9788\n",
      "Epoch 37/100\n",
      "2000/2000 [==============================] - 390s 195ms/step - loss: 8.2859e-05 - acc: 1.0000 - val_loss: 4.1400e-10 - val_acc: 0.9778\n",
      "Epoch 38/100\n",
      "2000/2000 [==============================] - 390s 195ms/step - loss: 6.0264e-06 - acc: 1.0000 - val_loss: 0.8197 - val_acc: 0.9834\n",
      "Epoch 39/100\n",
      "2000/2000 [==============================] - 390s 195ms/step - loss: 4.1793e-05 - acc: 1.0000 - val_loss: 2.3740e-07 - val_acc: 0.9808\n",
      "Epoch 40/100\n",
      "2000/2000 [==============================] - 390s 195ms/step - loss: 6.3207e-07 - acc: 1.0000 - val_loss: 1.5049e-09 - val_acc: 0.9806\n",
      "Epoch 41/100\n",
      "2000/2000 [==============================] - 390s 195ms/step - loss: 2.2586e-06 - acc: 1.0000 - val_loss: 0.0051 - val_acc: 0.9792\n",
      "Epoch 42/100\n",
      "2000/2000 [==============================] - 390s 195ms/step - loss: 3.2997e-05 - acc: 1.0000 - val_loss: 0.4775 - val_acc: 0.9814\n",
      "Epoch 43/100\n",
      "2000/2000 [==============================] - 390s 195ms/step - loss: 1.2540e-05 - acc: 1.0000 - val_loss: 6.9134e-10 - val_acc: 0.9788\n",
      "Epoch 44/100\n",
      "2000/2000 [==============================] - 390s 195ms/step - loss: 6.8283e-07 - acc: 1.0000 - val_loss: 2.8867e-07 - val_acc: 0.9816\n",
      "Epoch 45/100\n",
      "2000/2000 [==============================] - 390s 195ms/step - loss: 6.0233e-07 - acc: 1.0000 - val_loss: 3.4538e-08 - val_acc: 0.9818\n",
      "Epoch 46/100\n",
      "2000/2000 [==============================] - 390s 195ms/step - loss: 1.3977e-06 - acc: 1.0000 - val_loss: 1.0780e-09 - val_acc: 0.9792\n",
      "Epoch 47/100\n",
      "2000/2000 [==============================] - 390s 195ms/step - loss: 4.0241e-07 - acc: 1.0000 - val_loss: 2.1712e-09 - val_acc: 0.9790\n",
      "Epoch 48/100\n",
      "2000/2000 [==============================] - 390s 195ms/step - loss: 1.3028e-06 - acc: 1.0000 - val_loss: 2.1983e-10 - val_acc: 0.9816\n",
      "Epoch 49/100\n",
      "2000/2000 [==============================] - 390s 195ms/step - loss: 2.9117e-07 - acc: 1.0000 - val_loss: 0.0454 - val_acc: 0.9808\n",
      "Epoch 50/100\n",
      "2000/2000 [==============================] - 390s 195ms/step - loss: 2.7777e-06 - acc: 1.0000 - val_loss: 7.0727e-10 - val_acc: 0.9798\n",
      "Epoch 51/100\n",
      "2000/2000 [==============================] - 390s 195ms/step - loss: 1.6780e-07 - acc: 1.0000 - val_loss: 1.7893e-09 - val_acc: 0.9808\n",
      "Epoch 52/100\n",
      "2000/2000 [==============================] - 390s 195ms/step - loss: 1.1920e-06 - acc: 1.0000 - val_loss: 1.9700e-08 - val_acc: 0.9796\n",
      "Epoch 53/100\n",
      "2000/2000 [==============================] - 390s 195ms/step - loss: 4.1109e-06 - acc: 1.0000 - val_loss: 9.0754e-09 - val_acc: 0.9798\n",
      "Epoch 54/100\n",
      "2000/2000 [==============================] - 390s 195ms/step - loss: 1.0675e-06 - acc: 1.0000 - val_loss: 4.7395e-05 - val_acc: 0.9802\n",
      "Epoch 55/100\n",
      "2000/2000 [==============================] - 390s 195ms/step - loss: 4.1871e-06 - acc: 1.0000 - val_loss: 7.3443e-10 - val_acc: 0.9812\n",
      "Epoch 56/100\n",
      "2000/2000 [==============================] - 393s 196ms/step - loss: 1.1020e-06 - acc: 1.0000 - val_loss: 1.7668 - val_acc: 0.9798\n",
      "Epoch 57/100\n",
      "2000/2000 [==============================] - 393s 197ms/step - loss: 2.9006e-05 - acc: 1.0000 - val_loss: 1.3839 - val_acc: 0.9802\n",
      "Epoch 58/100\n",
      "2000/2000 [==============================] - 393s 197ms/step - loss: 1.7752e-05 - acc: 1.0000 - val_loss: 5.6097e-10 - val_acc: 0.9806\n",
      "Epoch 59/100\n",
      "2000/2000 [==============================] - 390s 195ms/step - loss: 3.4574e-06 - acc: 1.0000 - val_loss: 3.2305e-09 - val_acc: 0.9836\n",
      "Epoch 60/100\n",
      "2000/2000 [==============================] - 390s 195ms/step - loss: 3.6088e-06 - acc: 1.0000 - val_loss: 1.7597 - val_acc: 0.9772\n",
      "Epoch 61/100\n",
      "2000/2000 [==============================] - 390s 195ms/step - loss: 2.0677e-05 - acc: 1.0000 - val_loss: 3.0180e-09 - val_acc: 0.9826\n",
      "Epoch 62/100\n",
      "2000/2000 [==============================] - 390s 195ms/step - loss: 3.5615e-07 - acc: 1.0000 - val_loss: 1.2282 - val_acc: 0.9782\n",
      "Epoch 63/100\n",
      "2000/2000 [==============================] - 390s 195ms/step - loss: 7.4781e-06 - acc: 1.0000 - val_loss: 1.2305e-10 - val_acc: 0.9812\n",
      "Epoch 64/100\n",
      "2000/2000 [==============================] - 390s 195ms/step - loss: 1.7014e-05 - acc: 1.0000 - val_loss: 1.8452 - val_acc: 0.9796\n",
      "Epoch 65/100\n",
      "2000/2000 [==============================] - 390s 195ms/step - loss: 3.4983e-05 - acc: 1.0000 - val_loss: 9.9738e-10 - val_acc: 0.9804\n",
      "Epoch 66/100\n",
      "2000/2000 [==============================] - 390s 195ms/step - loss: 4.5239e-07 - acc: 1.0000 - val_loss: 3.4054e-10 - val_acc: 0.9800\n",
      "Epoch 67/100\n",
      "2000/2000 [==============================] - 390s 195ms/step - loss: 2.4214e-07 - acc: 1.0000 - val_loss: 1.9330e-08 - val_acc: 0.9810\n",
      "Epoch 68/100\n",
      "2000/2000 [==============================] - 390s 195ms/step - loss: 3.0963e-06 - acc: 1.0000 - val_loss: 1.7302e-10 - val_acc: 0.9796\n",
      "Epoch 69/100\n",
      "2000/2000 [==============================] - 390s 195ms/step - loss: 3.1510e-07 - acc: 1.0000 - val_loss: 2.5367e-10 - val_acc: 0.9824\n",
      "Epoch 70/100\n",
      "2000/2000 [==============================] - 390s 195ms/step - loss: 7.0145e-06 - acc: 1.0000 - val_loss: 3.9775e-09 - val_acc: 0.9782\n",
      "Epoch 71/100\n",
      "2000/2000 [==============================] - 390s 195ms/step - loss: 2.1464e-06 - acc: 1.0000 - val_loss: 7.0874e-10 - val_acc: 0.9780\n",
      "Epoch 72/100\n",
      "2000/2000 [==============================] - 390s 195ms/step - loss: 1.3879e-06 - acc: 1.0000 - val_loss: 3.8626e-09 - val_acc: 0.9826\n",
      "Epoch 73/100\n",
      "2000/2000 [==============================] - 390s 195ms/step - loss: 5.3789e-07 - acc: 1.0000 - val_loss: 1.4366 - val_acc: 0.9816\n",
      "Epoch 74/100\n",
      "2000/2000 [==============================] - 390s 195ms/step - loss: 3.2764e-07 - acc: 1.0000 - val_loss: 3.6151e-09 - val_acc: 0.9792\n",
      "Epoch 75/100\n",
      "2000/2000 [==============================] - 390s 195ms/step - loss: 1.6713e-05 - acc: 1.0000 - val_loss: 1.8834e-09 - val_acc: 0.9826\n",
      "Epoch 76/100\n",
      "2000/2000 [==============================] - 390s 195ms/step - loss: 5.6709e-07 - acc: 1.0000 - val_loss: 1.1889e-10 - val_acc: 0.9782\n",
      "Epoch 77/100\n",
      "2000/2000 [==============================] - 390s 195ms/step - loss: 7.6977e-07 - acc: 1.0000 - val_loss: 1.1132e-06 - val_acc: 0.9792\n",
      "Epoch 78/100\n",
      "2000/2000 [==============================] - 390s 195ms/step - loss: 1.3199e-05 - acc: 1.0000 - val_loss: 1.6805 - val_acc: 0.9818\n",
      "Epoch 79/100\n",
      "2000/2000 [==============================] - 390s 195ms/step - loss: 1.1034e-06 - acc: 1.0000 - val_loss: 6.5582e-08 - val_acc: 0.9828\n",
      "Epoch 80/100\n",
      "2000/2000 [==============================] - 390s 195ms/step - loss: 6.1747e-06 - acc: 1.0000 - val_loss: 1.9054 - val_acc: 0.9776\n",
      "Epoch 81/100\n",
      "2000/2000 [==============================] - 390s 195ms/step - loss: 1.9680e-06 - acc: 1.0000 - val_loss: 1.2715e-09 - val_acc: 0.9798\n",
      "Epoch 82/100\n",
      "2000/2000 [==============================] - 390s 195ms/step - loss: 4.9923e-06 - acc: 1.0000 - val_loss: 1.2139e-08 - val_acc: 0.9810\n",
      "Epoch 83/100\n",
      "2000/2000 [==============================] - 390s 195ms/step - loss: 1.0747e-05 - acc: 1.0000 - val_loss: 1.0012e-09 - val_acc: 0.9788\n",
      "Epoch 84/100\n",
      "2000/2000 [==============================] - 390s 195ms/step - loss: 2.6712e-07 - acc: 1.0000 - val_loss: 7.5136e-10 - val_acc: 0.9822\n",
      "Epoch 85/100\n",
      "2000/2000 [==============================] - 390s 195ms/step - loss: 1.5551e-07 - acc: 1.0000 - val_loss: 1.7367e-09 - val_acc: 0.9804\n",
      "Epoch 86/100\n",
      "2000/2000 [==============================] - 409s 205ms/step - loss: 1.6521e-06 - acc: 1.0000 - val_loss: 3.1337e-10 - val_acc: 0.9804\n",
      "Epoch 87/100\n",
      "2000/2000 [==============================] - 409s 205ms/step - loss: 9.2817e-07 - acc: 1.0000 - val_loss: 5.0799e-10 - val_acc: 0.9812\n",
      "Epoch 88/100\n",
      "2000/2000 [==============================] - 409s 205ms/step - loss: 1.5187e-07 - acc: 1.0000 - val_loss: 1.7773e-07 - val_acc: 0.9794\n",
      "Epoch 89/100\n",
      "2000/2000 [==============================] - 409s 205ms/step - loss: 1.3031e-06 - acc: 1.0000 - val_loss: 1.6676e-09 - val_acc: 0.9784\n",
      "Epoch 90/100\n",
      "2000/2000 [==============================] - 409s 205ms/step - loss: 3.7228e-06 - acc: 1.0000 - val_loss: 3.9506e-08 - val_acc: 0.9822\n",
      "Epoch 91/100\n",
      "2000/2000 [==============================] - 409s 205ms/step - loss: 5.7314e-06 - acc: 1.0000 - val_loss: 2.2328e-08 - val_acc: 0.9820\n",
      "Epoch 92/100\n",
      "2000/2000 [==============================] - 409s 205ms/step - loss: 8.3311e-06 - acc: 1.0000 - val_loss: 1.0584e-09 - val_acc: 0.9788\n",
      "Epoch 93/100\n",
      "2000/2000 [==============================] - 409s 205ms/step - loss: 8.6048e-07 - acc: 1.0000 - val_loss: 4.0312e-09 - val_acc: 0.9814\n",
      "Epoch 94/100\n",
      "2000/2000 [==============================] - 409s 205ms/step - loss: 1.4778e-06 - acc: 1.0000 - val_loss: 2.2776e-09 - val_acc: 0.9796 ETA: 3s - loss: 1.49\n",
      "Epoch 95/100\n",
      "2000/2000 [==============================] - 409s 205ms/step - loss: 1.5624e-06 - acc: 1.0000 - val_loss: 1.1761e-07 - val_acc: 0.9822\n",
      "Epoch 96/100\n",
      "2000/2000 [==============================] - 409s 205ms/step - loss: 1.7736e-07 - acc: 1.0000 - val_loss: 4.2935e-08 - val_acc: 0.9788\n",
      "Epoch 97/100\n",
      "2000/2000 [==============================] - 409s 205ms/step - loss: 3.7752e-07 - acc: 1.0000 - val_loss: 9.7533e-10 - val_acc: 0.9802\n",
      "Epoch 98/100\n",
      "2000/2000 [==============================] - 409s 205ms/step - loss: 1.0858e-05 - acc: 1.0000 - val_loss: 9.0031e-10 - val_acc: 0.9804\n",
      "Epoch 99/100\n",
      "2000/2000 [==============================] - 412s 206ms/step - loss: 3.8841e-07 - acc: 1.0000 - val_loss: 2.3943 - val_acc: 0.9792\n",
      "Epoch 100/100\n",
      "2000/2000 [==============================] - 425s 213ms/step - loss: 3.0341e-06 - acc: 1.0000 - val_loss: 4.1718e-09 - val_acc: 0.9816\n"
     ]
    }
   ],
   "source": [
    "history = model.fit_generator(\n",
    "        train_generator,\n",
    "        steps_per_epoch=2000, #每个step表示1个batch_size的数据大小\n",
    "        epochs=100,\n",
    "        validation_data=validation_generator,\n",
    "        callbacks=[learning_rate],\n",
    "        validation_steps=500)"
   ]
  },
  {
   "cell_type": "code",
   "execution_count": 12,
   "metadata": {},
   "outputs": [
    {
     "data": {
      "image/png": "[encoded data removed]",
      "text/plain": [
       "<Figure size 432x288 with 1 Axes>"
      ]
     },
     "metadata": {
      "needs_background": "light"
     },
     "output_type": "display_data"
    }
   ],
   "source": [
    "import matplotlib.pyplot as plt\n",
    "os.environ[\"KMP_DUPLICATE_LIB_OK\"]=\"TRUE\"\n",
    "\n",
    "acc = history.history['acc']\n",
    "val_acc =  history.history['val_acc']\n",
    "loss = history.history['loss']\n",
    "val_loss = history.history['val_loss']\n",
    "\n",
    "epochs = range(1, len(acc) + 1)\n",
    "\n",
    "plt.plot(epochs, acc, 'bo', label='Training acc')\n",
    "plt.plot(epochs, val_acc, 'b', label='Validation acc')\n",
    "plt.title('Training and validation accuracy')\n",
    "plt.legend()\n",
    "\n",
    "plt.show()"
   ]
  },
  {
   "cell_type": "code",
   "execution_count": 13,
   "metadata": {},
   "outputs": [
    {
     "data": {
      "image/png": "[encoded data removed]",
      "text/plain": [
       "<Figure size 432x288 with 1 Axes>"
      ]
     },
     "metadata": {
      "needs_background": "light"
     },
     "output_type": "display_data"
    }
   ],
   "source": [
    "plt.plot(epochs, loss, 'bo', label='Training loss')\n",
    "plt.plot(epochs, val_loss, 'b', label='Validation loss')\n",
    "plt.title('Training and validation loss')\n",
    "plt.legend()\n",
    "\n",
    "plt.show()"
   ]
  },
  {
   "cell_type": "code",
   "execution_count": null,
   "metadata": {},
   "outputs": [],
   "source": []
  }
 ],
 "metadata": {
  "kernelspec": {
   "display_name": "Python 3",
   "language": "python",
   "name": "python3"
  },
  "language_info": {
   "codemirror_mode": {
    "name": "ipython",
    "version": 3
   },
   "file_extension": ".py",
   "mimetype": "text/x-python",
   "name": "python",
   "nbconvert_exporter": "python",
   "pygments_lexer": "ipython3",
   "version": "3.5.2"
  }
 },
 "nbformat": 4,
 "nbformat_minor": 4
}
