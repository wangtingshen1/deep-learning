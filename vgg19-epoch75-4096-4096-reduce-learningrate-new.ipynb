{
 "cells": [
  {
   "cell_type": "code",
   "execution_count": 11,
   "metadata": {},
   "outputs": [],
   "source": [
    "import os,shutil\n",
    "original_dataset_dir_female = '/home/wangtingshen/tingshen-code/female/'\n",
    "original_dataset_dir_male = '/home/wangtingshen/tingshen-code/male/'"
   ]
  },
  {
   "cell_type": "code",
   "execution_count": 12,
   "metadata": {},
   "outputs": [
    {
     "name": "stdout",
     "output_type": "stream",
     "text": [
      "total training female images: 70000\n",
      "total training male images: 70000\n",
      "total validation female images: 5000\n",
      "total validation male images: 5000\n",
      "total test female images: 5000\n",
      "total test male images: 5000\n"
     ]
    }
   ],
   "source": [
    "#保存较小的数据集\n",
    "base_dir = '/home/wangtingshen/tingshen-code/real-dataset'\n",
    "\n",
    "#拼接子路径，划分训练、验证、测试集\n",
    "train_dir = os.path.join(base_dir,'train')\n",
    "validation_dir = os.path.join(base_dir,'validation')\n",
    "test_dir = os.path.join(base_dir,'test')\n",
    "\n",
    "#训练女性图像目录\n",
    "train_female_dir = os.path.join(train_dir,'female')\n",
    "#训练男性图像目录\n",
    "train_male_dir = os.path.join(train_dir,'male')\n",
    "#验证女性图像目录\n",
    "validation_female_dir = os.path.join(validation_dir,'female')\n",
    "#验证男性图像目录\n",
    "validation_male_dir = os.path.join(validation_dir,'male')\n",
    "#测试女性图像目录\n",
    "test_female_dir = os.path.join(test_dir,'female')\n",
    "#测试男性图像目录\n",
    "test_male_dir = os.path.join(test_dir,'male')\n",
    "\n",
    "print('total training female images:',len(os.listdir(train_female_dir)))\n",
    "print('total training male images:',len(os.listdir(train_male_dir)))\n",
    "print('total validation female images:',len(os.listdir(validation_female_dir)))\n",
    "print('total validation male images:',len(os.listdir(validation_male_dir)))\n",
    "print('total test female images:',len(os.listdir(test_female_dir)))\n",
    "print('total test male images:',len(os.listdir(test_male_dir)))"
   ]
  },
  {
   "cell_type": "code",
   "execution_count": 13,
   "metadata": {},
   "outputs": [
    {
     "name": "stderr",
     "output_type": "stream",
     "text": [
      "Using TensorFlow backend.\n"
     ]
    }
   ],
   "source": [
    "from keras import models\n",
    "from keras import layers"
   ]
  },
  {
   "cell_type": "code",
   "execution_count": 20,
   "metadata": {},
   "outputs": [
    {
     "name": "stdout",
     "output_type": "stream",
     "text": [
      "Found 140000 images belonging to 2 classes.\n",
      "Found 10000 images belonging to 2 classes.\n"
     ]
    }
   ],
   "source": [
    "from keras.preprocessing.image import ImageDataGenerator\n",
    "\n",
    "train_datagen = ImageDataGenerator(rescale=1./255)\n",
    "test_datagen = ImageDataGenerator(rescale=1./255)\n",
    "\n",
    "#默认打乱数据\n",
    "train_generator = train_datagen.flow_from_directory(\n",
    "        train_dir,\n",
    "        target_size=(224,224),\n",
    "        batch_size=35,\n",
    "        class_mode='binary')\n",
    "\n",
    "validation_generator = test_datagen.flow_from_directory(\n",
    "        validation_dir,\n",
    "        target_size=(224,224),\n",
    "        batch_size=35,\n",
    "        class_mode='binary')"
   ]
  },
  {
   "cell_type": "code",
   "execution_count": 21,
   "metadata": {},
   "outputs": [
    {
     "name": "stdout",
     "output_type": "stream",
     "text": [
      "data batch shape: (35, 224, 224, 3)\n",
      "labels batch shape: (35,)\n"
     ]
    }
   ],
   "source": [
    "for data_batch, labels_batch in train_generator:\n",
    "    print('data batch shape:', data_batch.shape)\n",
    "    print('labels batch shape:', labels_batch.shape)\n",
    "    break"
   ]
  },
  {
   "cell_type": "code",
   "execution_count": 27,
   "metadata": {},
   "outputs": [],
   "source": [
    "import keras\n",
    "from keras.applications.vgg19 import VGG19\n",
    "from keras.models import Sequential\n",
    "from keras.layers import Dense,Activation,Dropout,Flatten\n",
    "from keras.layers import Conv2D,MaxPool2D\n",
    "from keras.utils import plot_model\n",
    "\n",
    "# 定义输入\n",
    "input_shape = (224,224,3) # RGB影像224x224（height,width,channel)\n",
    "#引用模型\n",
    "conv_base = VGG19(weights=None, include_top=False, pooling=None,input_shape=input_shape)\n",
    "#定义模型\n",
    "model = models.Sequential()\n",
    "# 前馈全连接区块\n",
    "model.add(conv_base)\n",
    "model.add(Flatten(name='flatten'))\n",
    "model.add(Dense(4096,activation='relu',name='fc1'))\n",
    "model.add(Dense(4096,activation='relu',name='fc2'))\n",
    "model.add(Dense(1,activation='sigmoid',name='predictions'))"
   ]
  },
  {
   "cell_type": "code",
   "execution_count": 28,
   "metadata": {},
   "outputs": [
    {
     "name": "stdout",
     "output_type": "stream",
     "text": [
      "Model: \"sequential_3\"\n",
      "_________________________________________________________________\n",
      "Layer (type)                 Output Shape              Param #   \n",
      "=================================================================\n",
      "vgg19 (Model)                (None, 7, 7, 512)         20024384  \n",
      "_________________________________________________________________\n",
      "flatten (Flatten)            (None, 25088)             0         \n",
      "_________________________________________________________________\n",
      "fc1 (Dense)                  (None, 4096)              102764544 \n",
      "_________________________________________________________________\n",
      "fc2 (Dense)                  (None, 4096)              16781312  \n",
      "_________________________________________________________________\n",
      "predictions (Dense)          (None, 1)                 4097      \n",
      "=================================================================\n",
      "Total params: 139,574,337\n",
      "Trainable params: 139,574,337\n",
      "Non-trainable params: 0\n",
      "_________________________________________________________________\n"
     ]
    }
   ],
   "source": [
    "model.summary()"
   ]
  },
  {
   "cell_type": "code",
   "execution_count": 29,
   "metadata": {},
   "outputs": [],
   "source": [
    "from keras import optimizers\n",
    "from keras.callbacks import LearningRateScheduler\n",
    "import math\n",
    "\n",
    "def step_decay(epoch):\n",
    "    initial_lr = 1e-4\n",
    "    drop = 0.1\n",
    "    epochs_drop = 15.0\n",
    "    lrate = initial_lr*math.pow(drop,math.floor((1+epoch)/epochs_drop))\n",
    "    return lrate\n",
    "\n",
    "learning_rate = LearningRateScheduler(step_decay)\n",
    "model.compile(loss='binary_crossentropy', optimizer=optimizers.RMSprop(lr=1e-4), metrics=['acc'])"
   ]
  },
  {
   "cell_type": "code",
   "execution_count": 30,
   "metadata": {},
   "outputs": [
    {
     "name": "stdout",
     "output_type": "stream",
     "text": [
      "Epoch 1/75\n",
      "2000/2000 [==============================] - 838s 419ms/step - loss: 0.3382 - acc: 0.8252 - val_loss: 0.0655 - val_acc: 0.9503\n",
      "Epoch 2/75\n",
      "2000/2000 [==============================] - 849s 425ms/step - loss: 0.1318 - acc: 0.9522 - val_loss: 0.0522 - val_acc: 0.9611\n",
      "Epoch 3/75\n",
      "2000/2000 [==============================] - 605s 303ms/step - loss: 0.1070 - acc: 0.9633 - val_loss: 0.1403 - val_acc: 0.9640\n",
      "Epoch 4/75\n",
      "2000/2000 [==============================] - 611s 305ms/step - loss: 0.3806 - acc: 0.9653 - val_loss: 0.0023 - val_acc: 0.9680\n",
      "Epoch 5/75\n",
      "2000/2000 [==============================] - 598s 299ms/step - loss: 0.1106 - acc: 0.9692 - val_loss: 0.1356 - val_acc: 0.9543\n",
      "Epoch 6/75\n",
      "2000/2000 [==============================] - 592s 296ms/step - loss: 0.0974 - acc: 0.9706 - val_loss: 0.0361 - val_acc: 0.9724\n",
      "Epoch 7/75\n",
      "2000/2000 [==============================] - 595s 298ms/step - loss: 0.0988 - acc: 0.9718 - val_loss: 0.0584 - val_acc: 0.9646\n",
      "Epoch 8/75\n",
      "2000/2000 [==============================] - 599s 299ms/step - loss: 0.0877 - acc: 0.9723 - val_loss: 0.0263 - val_acc: 0.9726\n",
      "Epoch 9/75\n",
      "2000/2000 [==============================] - 601s 300ms/step - loss: 0.0970 - acc: 0.9719 - val_loss: 0.2465 - val_acc: 0.9726\n",
      "Epoch 10/75\n",
      "2000/2000 [==============================] - 604s 302ms/step - loss: 0.1666 - acc: 0.9722 - val_loss: 0.0605 - val_acc: 0.9714\n",
      "Epoch 11/75\n",
      "2000/2000 [==============================] - 606s 303ms/step - loss: 0.1203 - acc: 0.9737 - val_loss: 0.0368 - val_acc: 0.9651\n",
      "Epoch 12/75\n",
      "2000/2000 [==============================] - 610s 305ms/step - loss: 0.0884 - acc: 0.9734 - val_loss: 0.0201 - val_acc: 0.9747\n",
      "Epoch 13/75\n",
      "2000/2000 [==============================] - 613s 306ms/step - loss: 0.0881 - acc: 0.9739 - val_loss: 0.0669 - val_acc: 0.9531\n",
      "Epoch 14/75\n",
      "2000/2000 [==============================] - 614s 307ms/step - loss: 0.0908 - acc: 0.9727 - val_loss: 0.0406 - val_acc: 0.9754\n",
      "Epoch 15/75\n",
      "2000/2000 [==============================] - 615s 307ms/step - loss: 0.0477 - acc: 0.9845 - val_loss: 0.0467 - val_acc: 0.9789\n",
      "Epoch 16/75\n",
      "2000/2000 [==============================] - 615s 307ms/step - loss: 0.0455 - acc: 0.9855 - val_loss: 0.0218 - val_acc: 0.9737\n",
      "Epoch 17/75\n",
      "2000/2000 [==============================] - 615s 307ms/step - loss: 0.0418 - acc: 0.9868 - val_loss: 0.0240 - val_acc: 0.9760\n",
      "Epoch 18/75\n",
      "2000/2000 [==============================] - 620s 310ms/step - loss: 0.0423 - acc: 0.9864 - val_loss: 0.0591 - val_acc: 0.9747\n",
      "Epoch 19/75\n",
      "2000/2000 [==============================] - 631s 315ms/step - loss: 0.0437 - acc: 0.9867 - val_loss: 0.0010 - val_acc: 0.9834\n",
      "Epoch 20/75\n",
      "2000/2000 [==============================] - 633s 316ms/step - loss: 0.0434 - acc: 0.9865 - val_loss: 0.0120 - val_acc: 0.9817\n",
      "Epoch 21/75\n",
      "2000/2000 [==============================] - 637s 319ms/step - loss: 0.0394 - acc: 0.9874 - val_loss: 0.0393 - val_acc: 0.9749\n",
      "Epoch 22/75\n",
      "2000/2000 [==============================] - 637s 319ms/step - loss: 0.0410 - acc: 0.9877 - val_loss: 0.2378 - val_acc: 0.9811\n",
      "Epoch 23/75\n",
      "2000/2000 [==============================] - 637s 318ms/step - loss: 0.0413 - acc: 0.9889 - val_loss: 6.2838e-04 - val_acc: 0.9736\n",
      "Epoch 24/75\n",
      "2000/2000 [==============================] - 638s 319ms/step - loss: 0.0444 - acc: 0.9879 - val_loss: 0.0383 - val_acc: 0.9771\n",
      "Epoch 25/75\n",
      "2000/2000 [==============================] - 638s 319ms/step - loss: 0.0368 - acc: 0.9888 - val_loss: 0.0049 - val_acc: 0.9771\n",
      "Epoch 26/75\n",
      "2000/2000 [==============================] - 638s 319ms/step - loss: 0.0421 - acc: 0.9886 - val_loss: 0.2303 - val_acc: 0.9794\n",
      "Epoch 27/75\n",
      "2000/2000 [==============================] - 637s 319ms/step - loss: 0.0390 - acc: 0.9883 - val_loss: 0.1148 - val_acc: 0.9703\n",
      "Epoch 28/75\n",
      "2000/2000 [==============================] - 638s 319ms/step - loss: 0.0368 - acc: 0.9886 - val_loss: 0.0014 - val_acc: 0.9771\n",
      "Epoch 29/75\n",
      "2000/2000 [==============================] - 638s 319ms/step - loss: 0.0438 - acc: 0.9892 - val_loss: 0.1063 - val_acc: 0.9810\n",
      "Epoch 30/75\n",
      "2000/2000 [==============================] - 638s 319ms/step - loss: 0.0285 - acc: 0.9907 - val_loss: 0.4496 - val_acc: 0.9817\n",
      "Epoch 31/75\n",
      "2000/2000 [==============================] - 637s 319ms/step - loss: 0.0261 - acc: 0.9922 - val_loss: 0.0305 - val_acc: 0.9760\n",
      "Epoch 32/75\n",
      "2000/2000 [==============================] - 637s 319ms/step - loss: 0.0725 - acc: 0.9920 - val_loss: 0.0914 - val_acc: 0.9766\n",
      "Epoch 33/75\n",
      "2000/2000 [==============================] - 637s 319ms/step - loss: 0.0236 - acc: 0.9928 - val_loss: 0.2190 - val_acc: 0.9817\n",
      "Epoch 34/75\n",
      "2000/2000 [==============================] - 637s 319ms/step - loss: 0.0662 - acc: 0.9919 - val_loss: 0.0196 - val_acc: 0.9806\n",
      "Epoch 35/75\n",
      "2000/2000 [==============================] - 637s 319ms/step - loss: 0.0237 - acc: 0.9929 - val_loss: 0.0107 - val_acc: 0.9753\n",
      "Epoch 36/75\n",
      "2000/2000 [==============================] - 597s 299ms/step - loss: 0.0405 - acc: 0.9924 - val_loss: 0.0147 - val_acc: 0.9800\n",
      "Epoch 37/75\n",
      "2000/2000 [==============================] - 597s 298ms/step - loss: 0.0233 - acc: 0.9930 - val_loss: 2.7956e-04 - val_acc: 0.9789\n",
      "Epoch 38/75\n",
      "2000/2000 [==============================] - 597s 299ms/step - loss: 0.0268 - acc: 0.9925 - val_loss: 0.0445 - val_acc: 0.9811\n",
      "Epoch 39/75\n",
      "2000/2000 [==============================] - 597s 298ms/step - loss: 0.0289 - acc: 0.9930 - val_loss: 0.0027 - val_acc: 0.9800\n",
      "Epoch 40/75\n",
      "2000/2000 [==============================] - 597s 299ms/step - loss: 0.0242 - acc: 0.9926 - val_loss: 0.1568 - val_acc: 0.9766\n",
      "Epoch 41/75\n",
      "2000/2000 [==============================] - 597s 299ms/step - loss: 0.0492 - acc: 0.9933 - val_loss: 5.6090e-04 - val_acc: 0.9741\n",
      "Epoch 42/75\n",
      "2000/2000 [==============================] - 598s 299ms/step - loss: 0.0238 - acc: 0.9930 - val_loss: 0.0045 - val_acc: 0.9846\n",
      "Epoch 43/75\n",
      "2000/2000 [==============================] - 597s 299ms/step - loss: 0.0251 - acc: 0.9932 - val_loss: 7.3046e-04 - val_acc: 0.9823\n",
      "Epoch 44/75\n",
      "2000/2000 [==============================] - 597s 299ms/step - loss: 0.0240 - acc: 0.9931 - val_loss: 0.0273 - val_acc: 0.9771\n",
      "Epoch 45/75\n",
      "2000/2000 [==============================] - 598s 299ms/step - loss: 0.0298 - acc: 0.9938 - val_loss: 0.2894 - val_acc: 0.9771\n",
      "Epoch 46/75\n",
      "2000/2000 [==============================] - 598s 299ms/step - loss: 0.0202 - acc: 0.9941 - val_loss: 0.0829 - val_acc: 0.9747\n",
      "Epoch 47/75\n",
      "2000/2000 [==============================] - 598s 299ms/step - loss: 0.0197 - acc: 0.9943 - val_loss: 0.0752 - val_acc: 0.9777\n",
      "Epoch 48/75\n",
      "2000/2000 [==============================] - 598s 299ms/step - loss: 0.0275 - acc: 0.9941 - val_loss: 3.9993e-05 - val_acc: 0.9766\n",
      "Epoch 49/75\n",
      "2000/2000 [==============================] - 597s 299ms/step - loss: 0.0256 - acc: 0.9945 - val_loss: 0.1376 - val_acc: 0.9794\n",
      "Epoch 50/75\n",
      "2000/2000 [==============================] - 597s 299ms/step - loss: 0.0204 - acc: 0.9938 - val_loss: 0.0017 - val_acc: 0.9777\n",
      "Epoch 51/75\n",
      "2000/2000 [==============================] - 598s 299ms/step - loss: 0.0192 - acc: 0.9945 - val_loss: 0.0018 - val_acc: 0.9806\n",
      "Epoch 52/75\n",
      "2000/2000 [==============================] - 598s 299ms/step - loss: 0.0256 - acc: 0.9940 - val_loss: 0.1978 - val_acc: 0.9787\n",
      "Epoch 53/75\n",
      "2000/2000 [==============================] - 598s 299ms/step - loss: 0.0199 - acc: 0.9945 - val_loss: 0.2741 - val_acc: 0.9806\n",
      "Epoch 54/75\n",
      "2000/2000 [==============================] - 598s 299ms/step - loss: 0.0248 - acc: 0.9940 - val_loss: 0.2069 - val_acc: 0.9754\n",
      "Epoch 55/75\n",
      "2000/2000 [==============================] - 598s 299ms/step - loss: 0.0201 - acc: 0.9943 - val_loss: 0.0017 - val_acc: 0.9777\n",
      "Epoch 56/75\n",
      "2000/2000 [==============================] - 598s 299ms/step - loss: 0.0235 - acc: 0.9943 - val_loss: 0.0680 - val_acc: 0.9817\n",
      "Epoch 57/75\n",
      "2000/2000 [==============================] - 598s 299ms/step - loss: 0.0248 - acc: 0.9942 - val_loss: 0.3215 - val_acc: 0.9777\n",
      "Epoch 58/75\n",
      "2000/2000 [==============================] - 598s 299ms/step - loss: 0.0182 - acc: 0.9944 - val_loss: 4.3071e-04 - val_acc: 0.9764\n",
      "Epoch 59/75\n",
      "2000/2000 [==============================] - 598s 299ms/step - loss: 0.0205 - acc: 0.9942 - val_loss: 2.1231e-04 - val_acc: 0.9766\n"
     ]
    },
    {
     "name": "stdout",
     "output_type": "stream",
     "text": [
      "Epoch 60/75\n",
      "2000/2000 [==============================] - 577s 288ms/step - loss: 0.0229 - acc: 0.9945 - val_loss: 0.0809 - val_acc: 0.9777\n",
      "Epoch 61/75\n",
      "2000/2000 [==============================] - 577s 289ms/step - loss: 0.0196 - acc: 0.9944 - val_loss: 0.1309 - val_acc: 0.9823\n",
      "Epoch 62/75\n",
      "2000/2000 [==============================] - 577s 288ms/step - loss: 0.0232 - acc: 0.9944 - val_loss: 0.0076 - val_acc: 0.9749\n",
      "Epoch 63/75\n",
      "2000/2000 [==============================] - 577s 288ms/step - loss: 0.0195 - acc: 0.9944 - val_loss: 0.1308 - val_acc: 0.9799\n",
      "Epoch 64/75\n",
      "2000/2000 [==============================] - 577s 288ms/step - loss: 0.0232 - acc: 0.9944 - val_loss: 0.0545 - val_acc: 0.9806\n",
      "Epoch 65/75\n",
      "2000/2000 [==============================] - 577s 289ms/step - loss: 0.0228 - acc: 0.9945 - val_loss: 0.0016 - val_acc: 0.9811\n",
      "Epoch 66/75\n",
      "2000/2000 [==============================] - 577s 289ms/step - loss: 0.0197 - acc: 0.9943 - val_loss: 0.0951 - val_acc: 0.9760\n",
      "Epoch 67/75\n",
      "2000/2000 [==============================] - 577s 289ms/step - loss: 0.0226 - acc: 0.9946 - val_loss: 0.0012 - val_acc: 0.9794\n",
      "Epoch 68/75\n",
      "2000/2000 [==============================] - 577s 289ms/step - loss: 0.0203 - acc: 0.9942 - val_loss: 0.2040 - val_acc: 0.9754\n",
      "Epoch 69/75\n",
      "2000/2000 [==============================] - 577s 289ms/step - loss: 0.0224 - acc: 0.9944 - val_loss: 0.0684 - val_acc: 0.9810\n",
      "Epoch 70/75\n",
      "2000/2000 [==============================] - 577s 289ms/step - loss: 0.0201 - acc: 0.9944 - val_loss: 0.0257 - val_acc: 0.9806\n",
      "Epoch 71/75\n",
      "2000/2000 [==============================] - 577s 289ms/step - loss: 0.0228 - acc: 0.9944 - val_loss: 0.1248 - val_acc: 0.9771\n",
      "Epoch 72/75\n",
      "2000/2000 [==============================] - 588s 294ms/step - loss: 0.0196 - acc: 0.9944 - val_loss: 0.1212 - val_acc: 0.9777\n",
      "Epoch 73/75\n",
      "2000/2000 [==============================] - 594s 297ms/step - loss: 0.0229 - acc: 0.9944 - val_loss: 2.7089e-04 - val_acc: 0.9794\n",
      "Epoch 74/75\n",
      "2000/2000 [==============================] - 595s 297ms/step - loss: 0.0196 - acc: 0.9944 - val_loss: 0.1847 - val_acc: 0.9749\n",
      "Epoch 75/75\n",
      "2000/2000 [==============================] - 595s 297ms/step - loss: 0.0200 - acc: 0.9941 - val_loss: 0.2077 - val_acc: 0.9753\n"
     ]
    }
   ],
   "source": [
    "history = model.fit_generator(\n",
    "        train_generator,\n",
    "        steps_per_epoch=2000, #每个step表示1个batch_size的数据大小\n",
    "        epochs=75,\n",
    "        validation_data=validation_generator,\n",
    "        callbacks=[learning_rate],\n",
    "        validation_steps=50)"
   ]
  },
  {
   "cell_type": "code",
   "execution_count": 30,
   "metadata": {},
   "outputs": [
    {
     "data": {
      "image/png": "[encoded data removed]",
      "text/plain": [
       "<Figure size 432x288 with 1 Axes>"
      ]
     },
     "metadata": {
      "needs_background": "light"
     },
     "output_type": "display_data"
    }
   ],
   "source": [
    "import matplotlib.pyplot as plt\n",
    "os.environ[\"KMP_DUPLICATE_LIB_OK\"]=\"TRUE\"\n",
    "\n",
    "acc = history.history['acc']\n",
    "val_acc =  history.history['val_acc']\n",
    "loss = history.history['loss']\n",
    "val_loss = history.history['val_loss']\n",
    "\n",
    "epochs = range(1, len(acc) + 1)\n",
    "\n",
    "plt.plot(epochs, acc, 'bo', label='Training acc')\n",
    "plt.plot(epochs, val_acc, 'b', label='Validation acc')\n",
    "plt.title('Training and validation accuracy')\n",
    "plt.legend()\n",
    "\n",
    "plt.show()"
   ]
  },
  {
   "cell_type": "code",
   "execution_count": 31,
   "metadata": {},
   "outputs": [
    {
     "data": {
      "image/png": "[encoded data removed]",
      "text/plain": [
       "<Figure size 432x288 with 1 Axes>"
      ]
     },
     "metadata": {
      "needs_background": "light"
     },
     "output_type": "display_data"
    }
   ],
   "source": [
    "plt.plot(epochs, loss, 'bo', label='Training loss')\n",
    "plt.plot(epochs, val_loss, 'b', label='Validation loss')\n",
    "plt.title('Training and validation loss')\n",
    "plt.legend()\n",
    "\n",
    "plt.show()"
   ]
  },
  {
   "cell_type": "code",
   "execution_count": null,
   "metadata": {},
   "outputs": [],
   "source": []
  }
 ],
 "metadata": {
  "kernelspec": {
   "display_name": "Python 3",
   "language": "python",
   "name": "python3"
  },
  "language_info": {
   "codemirror_mode": {
    "name": "ipython",
    "version": 3
   },
   "file_extension": ".py",
   "mimetype": "text/x-python",
   "name": "python",
   "nbconvert_exporter": "python",
   "pygments_lexer": "ipython3",
   "version": "3.5.2"
  }
 },
 "nbformat": 4,
 "nbformat_minor": 4
}
